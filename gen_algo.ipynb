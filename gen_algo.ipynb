{
 "cells": [
  {
   "cell_type": "code",
   "execution_count": 1,
   "metadata": {
    "collapsed": false
   },
   "outputs": [],
   "source": [
    "%load_ext autoreload\n",
    "%autoreload 2"
   ]
  },
  {
   "cell_type": "code",
   "execution_count": 15,
   "metadata": {
    "collapsed": false
   },
   "outputs": [],
   "source": [
    "import dmc\n",
    "import dmc.genetic as gen\n",
    "import dmc.features\n",
    "from dmc.classifiers import Forest, NaiveBayes, SVM, TreeBag\n",
    "import pandas as pd\n",
    "import numpy as np\n",
    "\n"
   ]
  },
  {
   "cell_type": "code",
   "execution_count": 5,
   "metadata": {
    "collapsed": false
   },
   "outputs": [],
   "source": [
    "df = pd.read_csv('data/processed.csv', sep = ',')\n",
    "dummy = pd.DataFrame(columns = df.columns.tolist())\n",
    "df, dummy = dmc.features.add_dependent_features(df, dummy)"
   ]
  },
  {
   "cell_type": "code",
   "execution_count": 28,
   "metadata": {
    "collapsed": false,
    "scrolled": true
   },
   "outputs": [],
   "source": [
    "classifierSet = {'Forest' : Forest, 'NaiveBayes' : NaiveBayes, 'SVM' : SVM}\n",
    "\n",
    "notUsed = ['returnQuantity', 'orderID', 'orderDate', 'customerID', 'Unnamed: 0', 'Unnamed', 'ID']\n",
    "uk = {}\n",
    "uk['Article'] = ['articleID'] + notUsed\n",
    "uk['Customer'] = ['customerReturnProb', 'customerID'] + notUsed\n",
    "uk['Voucher'] = ['voucherID '] + notUsed\n",
    "\n",
    "uk['ArticleProductgroup'] = ['productGroup', 'productGroupReturnProb'] + uk['Article']\n",
    "uk['ArticleCustomer'] = uk['Article'] + uk['Customer']\n",
    "uk['ArticleVoucher'] = uk['Article'] + uk['Voucher']\n",
    "uk['CustomerVoucher'] =  uk['Customer'] + uk['Voucher']\n",
    "\n",
    "uk['ArticleProductgroupCustomer'] = uk['ArticleProductgroup'] + uk['Customer']\n",
    "uk['ArticleProductgroupVoucher'] =  uk['ArticleProductgroup'] + uk['Voucher']\n",
    "uk['ArticleCustomerVoucher'] = uk['Article'] + uk['Customer'] + uk['Voucher']\n",
    "\n",
    "uk['ArticleProductgroupCustomerVoucher'] = uk['Customer'] + uk['Voucher'] + uk['ArticleProductgroup']\n",
    "\n",
    "uk['None'] = notUsed\n"
   ]
  },
  {
   "cell_type": "code",
   "execution_count": null,
   "metadata": {
    "collapsed": false
   },
   "outputs": [
    {
     "name": "stdout",
     "output_type": "stream",
     "text": [
      "genes: 20 generations: 15 keep: 4 mutationProb: 0.1\n"
     ]
    }
   ],
   "source": [
    "for identifier, missedFts in uk.items():\n",
    "    featureset = gen.prepareFeatureList(df, missedFts)\n",
    "    for classifierName, classifier in classifierSet.items():\n",
    "        sets, score = gen.playGod(classifierName, identifier, classifier, df, featureset)\n",
    "        sets.to_csv('gen_algo_sets/Sets_' + classifierName + '_' + identifier + '.csv', sep=',')\n",
    "        score.to_csv('gen_algo_score/Sets_' + classifierName + '_' + identifier + '.csv', sep=',')"
   ]
  }
 ],
 "metadata": {
  "kernelspec": {
   "display_name": "Python 3",
   "language": "python",
   "name": "python3"
  },
  "language_info": {
   "codemirror_mode": {
    "name": "ipython",
    "version": 3
   },
   "file_extension": ".py",
   "mimetype": "text/x-python",
   "name": "python",
   "nbconvert_exporter": "python",
   "pygments_lexer": "ipython3",
   "version": "3.4.3"
  }
 },
 "nbformat": 4,
 "nbformat_minor": 0
}
