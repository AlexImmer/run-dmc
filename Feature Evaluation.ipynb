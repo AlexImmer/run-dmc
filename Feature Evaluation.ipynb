{
 "cells": [
  {
   "cell_type": "code",
   "execution_count": 1,
   "metadata": {
    "collapsed": true
   },
   "outputs": [],
   "source": [
    "import process as p\n",
    "import pandas as pd\n",
    "import dmc"
   ]
  },
  {
   "cell_type": "code",
   "execution_count": 2,
   "metadata": {
    "collapsed": false
   },
   "outputs": [],
   "source": [
    "df = p.processed_data()\n",
    "df = p.shuffle(df)"
   ]
  },
  {
   "cell_type": "code",
   "execution_count": 3,
   "metadata": {
    "collapsed": false
   },
   "outputs": [
    {
     "name": "stderr",
     "output_type": "stream",
     "text": [
      "/home/bpm1/BigData/run-dmc/venv/lib/python3.4/site-packages/pandas/core/generic.py:2701: SettingWithCopyWarning: \n",
      "A value is trying to be set on a copy of a slice from a DataFrame.\n",
      "Try using .loc[row_indexer,col_indexer] = value instead\n",
      "\n",
      "See the caveats in the documentation: http://pandas.pydata.org/pandas-docs/stable/indexing.html#indexing-view-versus-copy\n",
      "  self[name] = value\n"
     ]
    }
   ],
   "source": [
    "start, end, split = pd.Timestamp('2014-1-1'), pd.Timestamp('2014-12-31'), pd.Timestamp('2014-10-1')\n",
    "df.orderDate = pd.to_datetime(df.orderDate)\n",
    "mask = (df.orderDate >= start) & (df.orderDate <= end)\n",
    "df_full = df[mask]\n",
    "te_size = 5000\n",
    "tr_size = 5000\n",
    "X, Y, fts = dmc.transformation.transform_preserving_header(df_full, scaler=dmc.transformation.scale_features, binary_target=True)\n",
    "train = X[:tr_size], Y[:tr_size]\n",
    "test = X[tr_size:tr_size+te_size], Y[tr_size:tr_size+te_size]"
   ]
  },
  {
   "cell_type": "code",
   "execution_count": 4,
   "metadata": {
    "collapsed": false
   },
   "outputs": [],
   "source": [
    "#res_tree = dmc.evaluation.evaluate_features_leaving_one_out(train[0], train[1], test[0], test[1], fts, dmc.classifiers.DecisionTree)"
   ]
  },
  {
   "cell_type": "code",
   "execution_count": null,
   "metadata": {
    "collapsed": false
   },
   "outputs": [],
   "source": []
  },
  {
   "cell_type": "code",
   "execution_count": 5,
   "metadata": {
    "collapsed": false
   },
   "outputs": [
    {
     "name": "stdout",
     "output_type": "stream",
     "text": [
      "0\n",
      "[('t_isGift', -0.0031999999999999806), ('surplusArticleSizeQuantity', -0.0026000000000000467), ('t_order_totalPrice', -0.0022000000000000908), ('sizeCode', -0.0020000000000000018), ('t_isTypePants', -0.0020000000000000018), ('deviceID', -0.0020000000000000018), ('orderWeekOfYear', -0.0020000000000000018), ('t_order_article_sameArticlesCount_DiffColor', -0.0018000000000000238), ('t_voucher_isValueVoucher', -0.0015999999999999348), ('t_order_boughtArticleCount', -0.0015999999999999348), ('t_order_sameArticlesCount_DiffColor', -0.0015999999999999348), ('orderMonth', -0.0010000000000000009), ('t_singleItemPrice', -0.00080000000000002292), ('orderTotalDay', -0.000200000000000089), ('orderDay', 0.0), ('t_order_duplicateCount', 0.00040000000000006697), ('surplusArticleQuantity', 0.00060000000000004494), ('t_customer_voucherCount', 0.00060000000000004494), ('t_article_availableSizes', 0.0010000000000000009), ('orderWeek', 0.0010000000000000009), ('t_isOneSize_A', 0.0011999999999999789), ('t_order_hasVoucher_A', 0.0011999999999999789), ('t_order_totalPrice_diff_voucherAmount', 0.0015999999999999348), ('voucherID', 0.0015999999999999348), ('t_sizeCodeNumerized', 0.0017999999999999128), ('customerAvgUnisize', 0.0017999999999999128), ('t_order_boughtArticleTypeCount', 0.0020000000000000018), ('paymentMethod', 0.0020000000000000018), ('productGroup', 0.0020000000000000018), ('orderDayOfYear', 0.0021999999999999797), ('t_order_sameArticlesCount', 0.0021999999999999797), ('quantity', 0.0021999999999999797), ('t_order_article_sameArticlesCount', 0.0021999999999999797), ('voucherSavings', 0.0024000000000000687), ('t_isWeekend_A', 0.0024000000000000687), ('relativeSavings', 0.0024000000000000687), ('productGroupReturnProb', 0.0026000000000000467), ('t_customer_boughtArticleCount', 0.0026000000000000467), ('t_voucher_is15PercentVoucher', 0.0028000000000000247), ('orderYear', 0.0028000000000000247), ('orderQuarter', 0.0030000000000000027), ('t_ssv', 0.0031999999999999806), ('t_wsv', 0.0033999999999999586), ('t_voucher_is10PercentVoucher', 0.0033999999999999586), ('t_reducedPaymentMethod_A', 0.0035999999999999366), ('orderWeekDay', 0.0035999999999999366), ('productPrice', 0.0035999999999999366), ('totalSavings', 0.0037999999999999146), ('colorCode', 0.0040000000000000036), ('t_isTypeTop', 0.0041999999999999815), ('t_isTypeBelt', 0.0044000000000000705), ('t_article_priceChangeSTD_A', 0.0044000000000000705), ('totalOrderShare', 0.0046000000000000485), ('colorReturnProb', 0.0046000000000000485), ('t_order_sameArticlesCount_DiffSize', 0.0046000000000000485), ('sizeReturnProb', 0.0048000000000000265), ('orderSeason', 0.0050000000000000044), ('orderIsOnGermanHoliday', 0.0050000000000000044), ('t_order_article_sameArticlesCount_DiffSize', 0.0050000000000000044), ('t_paymentWithFee_A', 0.0053999999999999604), ('surplusArticleColorQuantity', 0.0055999999999999384), ('t_isChristmas', 0.0057999999999999163), ('t_singleItemPrice_diff_rrp', 0.0060000000000000053), ('t_article_availableColors', 0.0061999999999999833), ('t_order_meanPrice', 0.0061999999999999833), ('t_unisizeOffset', 0.0064000000000000723), ('t_customer_orderCount', 0.0064000000000000723), ('binnedColorCode', 0.0064000000000000723), ('t_voucher_isGiftVoucher', 0.0068000000000000282), ('t_unisize', 0.0071999999999999842), ('t_order_cheapestPrice', 0.0071999999999999842), ('t_order_priceStd_A', 0.0081999999999999851), ('rrp', 0.0095999999999999419), ('t_order_mostExpensivePrice', 0.0095999999999999419), ('voucherAmount', 0.010600000000000054), ('price', 0.011399999999999966), ('t_article_boughtCountGlobal', 0.014000000000000012), ('articleID', 0.018399999999999972), ('customerReturnProb', 0.12479999999999991)]\n"
     ]
    }
   ],
   "source": [
    "'''Calculate impact of features for n iterations'''\n",
    "impact_map = dict()\n",
    "feature_set = set(fts)\n",
    "for feature in fts:\n",
    "        impact_map[feature] = 0.\n",
    "for i in range(1):\n",
    "    print(i)\n",
    "    res_tree = dmc.evaluation.evaluate_features_leaving_one_out(train[0], train[1], test[0], test[1], fts, dmc.classifiers.DecisionTree)\n",
    "    for feature in feature_set:\n",
    "            impact_map[feature] = impact_map[feature] + res_tree.decrement[feature]\n",
    "import operator\n",
    "sorted_impact_list = sorted(impact_map.items(), key=operator.itemgetter(1))\n",
    "print(sorted_impact_list)\n"
   ]
  },
  {
   "cell_type": "code",
   "execution_count": null,
   "metadata": {
    "collapsed": false
   },
   "outputs": [],
   "source": []
  },
  {
   "cell_type": "code",
   "execution_count": null,
   "metadata": {
    "collapsed": false
   },
   "outputs": [],
   "source": []
  },
  {
   "cell_type": "code",
   "execution_count": 6,
   "metadata": {
    "collapsed": false
   },
   "outputs": [
    {
     "data": {
      "text/html": [
       "<div>\n",
       "<table border=\"1\" class=\"dataframe\">\n",
       "  <thead>\n",
       "    <tr style=\"text-align: right;\">\n",
       "      <th></th>\n",
       "      <th>decrement</th>\n",
       "      <th>precision</th>\n",
       "    </tr>\n",
       "  </thead>\n",
       "  <tbody>\n",
       "    <tr>\n",
       "      <th>orderTotalDay</th>\n",
       "      <td>-0.0002</td>\n",
       "      <td>0.6908</td>\n",
       "    </tr>\n",
       "    <tr>\n",
       "      <th>sizeCode</th>\n",
       "      <td>-0.0020</td>\n",
       "      <td>0.6926</td>\n",
       "    </tr>\n",
       "    <tr>\n",
       "      <th>t_isTypePants</th>\n",
       "      <td>-0.0020</td>\n",
       "      <td>0.6926</td>\n",
       "    </tr>\n",
       "    <tr>\n",
       "      <th>t_order_article_sameArticlesCount_DiffColor</th>\n",
       "      <td>-0.0018</td>\n",
       "      <td>0.6924</td>\n",
       "    </tr>\n",
       "    <tr>\n",
       "      <th>surplusArticleSizeQuantity</th>\n",
       "      <td>-0.0026</td>\n",
       "      <td>0.6932</td>\n",
       "    </tr>\n",
       "    <tr>\n",
       "      <th>t_order_boughtArticleCount</th>\n",
       "      <td>-0.0016</td>\n",
       "      <td>0.6922</td>\n",
       "    </tr>\n",
       "    <tr>\n",
       "      <th>t_isGift</th>\n",
       "      <td>-0.0032</td>\n",
       "      <td>0.6938</td>\n",
       "    </tr>\n",
       "    <tr>\n",
       "      <th>t_order_sameArticlesCount_DiffColor</th>\n",
       "      <td>-0.0016</td>\n",
       "      <td>0.6922</td>\n",
       "    </tr>\n",
       "    <tr>\n",
       "      <th>deviceID</th>\n",
       "      <td>-0.0020</td>\n",
       "      <td>0.6926</td>\n",
       "    </tr>\n",
       "    <tr>\n",
       "      <th>orderWeekOfYear</th>\n",
       "      <td>-0.0020</td>\n",
       "      <td>0.6926</td>\n",
       "    </tr>\n",
       "    <tr>\n",
       "      <th>orderMonth</th>\n",
       "      <td>-0.0010</td>\n",
       "      <td>0.6916</td>\n",
       "    </tr>\n",
       "    <tr>\n",
       "      <th>t_singleItemPrice</th>\n",
       "      <td>-0.0008</td>\n",
       "      <td>0.6914</td>\n",
       "    </tr>\n",
       "    <tr>\n",
       "      <th>t_order_totalPrice</th>\n",
       "      <td>-0.0022</td>\n",
       "      <td>0.6928</td>\n",
       "    </tr>\n",
       "    <tr>\n",
       "      <th>t_voucher_isValueVoucher</th>\n",
       "      <td>-0.0016</td>\n",
       "      <td>0.6922</td>\n",
       "    </tr>\n",
       "  </tbody>\n",
       "</table>\n",
       "</div>"
      ],
      "text/plain": [
       "                                             decrement  precision\n",
       "orderTotalDay                                  -0.0002     0.6908\n",
       "sizeCode                                       -0.0020     0.6926\n",
       "t_isTypePants                                  -0.0020     0.6926\n",
       "t_order_article_sameArticlesCount_DiffColor    -0.0018     0.6924\n",
       "surplusArticleSizeQuantity                     -0.0026     0.6932\n",
       "t_order_boughtArticleCount                     -0.0016     0.6922\n",
       "t_isGift                                       -0.0032     0.6938\n",
       "t_order_sameArticlesCount_DiffColor            -0.0016     0.6922\n",
       "deviceID                                       -0.0020     0.6926\n",
       "orderWeekOfYear                                -0.0020     0.6926\n",
       "orderMonth                                     -0.0010     0.6916\n",
       "t_singleItemPrice                              -0.0008     0.6914\n",
       "t_order_totalPrice                             -0.0022     0.6928\n",
       "t_voucher_isValueVoucher                       -0.0016     0.6922"
      ]
     },
     "execution_count": 6,
     "metadata": {},
     "output_type": "execute_result"
    }
   ],
   "source": [
    "res_tree[(res_tree.decrement < 0)]"
   ]
  },
  {
   "cell_type": "code",
   "execution_count": 8,
   "metadata": {
    "collapsed": false
   },
   "outputs": [
    {
     "name": "stdout",
     "output_type": "stream",
     "text": [
      "Improvement without t_isGift: -0.00045999999999990493\n",
      "Improvement without surplusArticleSizeQuantity: 0.00042000000000008697\n",
      "Improvement without t_order_totalPrice: -0.000580000000000136\n",
      "Improvement without sizeCode: 0.0017000000000000348\n",
      "Improvement without t_isTypePants: 0.00033999999999989594\n"
     ]
    }
   ],
   "source": [
    "kick_features = 5\n",
    "for i in range(kick_features):\n",
    "    improvement_without_feature = dmc.evaluation.evaluate_without_one_feature(train[0], train[1], test[0], test[1], fts, sorted_impact_list[i][0], dmc.classifiers.DecisionTree, 10)\n",
    "    print(improvement_without_feature)"
   ]
  },
  {
   "cell_type": "code",
   "execution_count": null,
   "metadata": {
    "collapsed": true
   },
   "outputs": [],
   "source": []
  },
  {
   "cell_type": "code",
   "execution_count": null,
   "metadata": {
    "collapsed": true
   },
   "outputs": [],
   "source": []
  }
 ],
 "metadata": {
  "kernelspec": {
   "display_name": "Python 3",
   "language": "python",
   "name": "python3"
  },
  "language_info": {
   "codemirror_mode": {
    "name": "ipython",
    "version": 3
   },
   "file_extension": ".py",
   "mimetype": "text/x-python",
   "name": "python",
   "nbconvert_exporter": "python",
   "pygments_lexer": "ipython3",
   "version": "3.4.3"
  }
 },
 "nbformat": 4,
 "nbformat_minor": 0
}
