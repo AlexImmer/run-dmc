{
 "cells": [
  {
   "cell_type": "code",
   "execution_count": 1,
   "metadata": {
    "collapsed": true
   },
   "outputs": [],
   "source": [
    "%load_ext autoreload \n",
    "%autoreload 2\n",
    "import process as p\n",
    "import pandas as pd\n",
    "import dmc"
   ]
  },
  {
   "cell_type": "code",
   "execution_count": 2,
   "metadata": {
    "collapsed": false
   },
   "outputs": [],
   "source": [
    "df = p.processed_data()\n",
    "df = p.shuffle(df)"
   ]
  },
  {
   "cell_type": "code",
   "execution_count": 3,
   "metadata": {
    "collapsed": false
   },
   "outputs": [
    {
     "name": "stderr",
     "output_type": "stream",
     "text": [
      "/home/bpm1/BigData/run-dmc/venv/lib/python3.4/site-packages/pandas/core/generic.py:2701: SettingWithCopyWarning: \n",
      "A value is trying to be set on a copy of a slice from a DataFrame.\n",
      "Try using .loc[row_indexer,col_indexer] = value instead\n",
      "\n",
      "See the caveats in the documentation: http://pandas.pydata.org/pandas-docs/stable/indexing.html#indexing-view-versus-copy\n",
      "  self[name] = value\n"
     ]
    }
   ],
   "source": [
    "start, end, split = pd.Timestamp('2014-1-1'), pd.Timestamp('2014-12-31'), pd.Timestamp('2014-10-1')\n",
    "df.orderDate = pd.to_datetime(df.orderDate)\n",
    "mask = (df.orderDate >= start) & (df.orderDate <= end)\n",
    "df_full = df[mask]\n",
    "te_size = 10000\n",
    "tr_size = 10000\n",
    "X, Y, fts = dmc.transformation.transform_preserving_header(df_full, scaler=dmc.transformation.scale_features, binary_target=True)\n",
    "train = X[:tr_size], Y[:tr_size]\n",
    "test = X[tr_size:tr_size+te_size], Y[tr_size:tr_size+te_size]"
   ]
  },
  {
   "cell_type": "code",
   "execution_count": 4,
   "metadata": {
    "collapsed": false
   },
   "outputs": [],
   "source": [
    "#res_tree = dmc.evaluation.evaluate_features_leaving_one_out(train[0], train[1], test[0], test[1], fts, dmc.classifiers.DecisionTree)"
   ]
  },
  {
   "cell_type": "code",
   "execution_count": null,
   "metadata": {
    "collapsed": false
   },
   "outputs": [],
   "source": []
  },
  {
   "cell_type": "code",
   "execution_count": 5,
   "metadata": {
    "collapsed": false
   },
   "outputs": [
    {
     "name": "stdout",
     "output_type": "stream",
     "text": [
      "0\n",
      "1\n",
      "2\n",
      "3\n",
      "4\n",
      "5\n",
      "6\n",
      "7\n",
      "8\n",
      "9\n",
      "[('customerAvgUnisize', -0.031600000000000183), ('t_order_meanPrice', -0.027100000000000124), ('binnedColorCode', -0.026700000000000279), ('voucherID', -0.026399999999999979), ('orderWeek', -0.021700000000000275), ('t_order_boughtArticleCount', -0.018199999999999883), ('deviceID', -0.016200000000000325), ('t_order_mostExpensivePrice', -0.016000000000000125), ('t_order_sameArticlesCount', -0.015900000000000136), ('t_reducedPaymentMethod_A', -0.014399999999999857), ('t_order_cheapestPrice', -0.013400000000000412), ('productGroup', -0.013200000000000212), ('t_wsv', -0.010900000000000354), ('voucherSavings', -0.010800000000000143), ('t_order_hasVoucher_A', -0.010500000000000287), ('orderWeekDay', -0.009600000000000164), ('relativeSavings', -0.0095000000000000639), ('paymentMethod', -0.0094999999999999529), ('t_customer_voucherCount', -0.009300000000000197), ('t_paymentWithFee_A', -0.00900000000000023), ('t_isWeekend_A', -0.008999999999999897), ('t_isTypeBelt', -0.0089000000000003521), ('orderQuarter', -0.008800000000000141), ('t_order_totalPrice', -0.0081000000000001071), ('sizeReturnProb', -0.0075000000000000622), ('orderDayOfYear', -0.0074000000000002952), ('totalSavings', -0.0073000000000003062), ('t_order_duplicateCount', -0.0073000000000000842), ('t_isTypePants', -0.0072000000000002062), ('t_singleItemPrice_diff_rrp', -0.0066000000000002723), ('t_order_sameArticlesCount_DiffSize', -0.0063000000000001943), ('t_article_availableSizes', -0.0060000000000003384), ('surplusArticleSizeQuantity', -0.0047999999999998044), ('productPrice', -0.0047000000000002595), ('voucherAmount', -0.0047000000000002595), ('t_singleItemPrice', -0.0046000000000003816), ('t_sizeCodeNumerized', -0.0046000000000001595), ('t_order_sameArticlesCount_DiffColor', -0.0042000000000004256), ('t_isOneSize_A', -0.0038000000000001366), ('t_order_article_sameArticlesCount', -0.0036000000000002697), ('t_isGift', -0.0026000000000000467), ('t_voucher_is10PercentVoucher', -0.0023999999999999577), ('surplusArticleColorQuantity', -0.0021000000000001018), ('surplusArticleQuantity', -0.0019000000000000128), ('t_isTypeTop', -0.0014000000000001789), ('t_article_boughtCountGlobal', -0.00060000000000015596), ('orderIsOnGermanHoliday', -0.00039999999999984492), ('t_ssv', -0.00030000000000007798), ('orderSeason', 0.00050000000000005596), ('t_order_boughtArticleTypeCount', 0.0005999999999998229), ('t_voucher_isValueVoucher', 0.0010000000000000009), ('t_customer_orderCount', 0.0010999999999995458), ('t_order_article_sameArticlesCount_DiffSize', 0.0014999999999998348), ('t_order_article_sameArticlesCount_DiffColor', 0.0020999999999998797), ('colorReturnProb', 0.0025999999999998247), ('quantity', 0.0037999999999994705), ('orderTotalDay', 0.0043999999999999595), ('price', 0.0054999999999997273), ('t_voucher_isGiftVoucher', 0.0060999999999995502), ('colorCode', 0.0071999999999997621), ('orderDay', 0.0075999999999996071), ('t_isChristmas', 0.0081999999999998741), ('t_customer_boughtArticleCount', 0.0089999999999996749), ('t_voucher_is15PercentVoucher', 0.010100000000000109), ('orderYear', 0.010399999999999965), ('orderWeekOfYear', 0.011399999999999966), ('t_order_priceStd_A', 0.014100000000000001), ('t_order_totalPrice_diff_voucherAmount', 0.01509999999999978), ('productGroupReturnProb', 0.016499999999999626), ('t_unisize', 0.017499999999999738), ('t_article_priceChangeSTD_A', 0.018899999999999806), ('sizeCode', 0.019899999999999807), ('t_unisizeOffset', 0.026799999999999824), ('totalOrderShare', 0.02929999999999966), ('rrp', 0.031299999999999772), ('t_article_availableColors', 0.035299999999999776), ('orderMonth', 0.047199999999999576), ('articleID', 0.086699999999999888), ('customerReturnProb', 1.1471999999999998)]\n"
     ]
    }
   ],
   "source": [
    "'''Calculate impact of features for n iterations'''\n",
    "impact_map = dict()\n",
    "feature_set = set(fts)\n",
    "for feature in fts:\n",
    "        impact_map[feature] = 0.\n",
    "for i in range(10):\n",
    "    print(i)\n",
    "    res_tree = dmc.evaluation.evaluate_features_leaving_one_out(train[0], train[1], test[0], test[1], fts, dmc.classifiers.DecisionTree)\n",
    "    for feature in feature_set:\n",
    "            impact_map[feature] = impact_map[feature] + res_tree.decrement[feature]\n",
    "import operator\n",
    "sorted_impact_list = sorted(impact_map.items(), key=operator.itemgetter(1))\n",
    "print(sorted_impact_list)\n"
   ]
  },
  {
   "cell_type": "code",
   "execution_count": null,
   "metadata": {
    "collapsed": false
   },
   "outputs": [],
   "source": []
  },
  {
   "cell_type": "code",
   "execution_count": null,
   "metadata": {
    "collapsed": false
   },
   "outputs": [],
   "source": []
  },
  {
   "cell_type": "code",
   "execution_count": 6,
   "metadata": {
    "collapsed": false
   },
   "outputs": [
    {
     "data": {
      "text/html": [
       "<div>\n",
       "<table border=\"1\" class=\"dataframe\">\n",
       "  <thead>\n",
       "    <tr style=\"text-align: right;\">\n",
       "      <th></th>\n",
       "      <th>decrement</th>\n",
       "      <th>precision</th>\n",
       "    </tr>\n",
       "  </thead>\n",
       "  <tbody>\n",
       "    <tr>\n",
       "      <th>t_order_boughtArticleCount</th>\n",
       "      <td>-0.0007</td>\n",
       "      <td>0.6965</td>\n",
       "    </tr>\n",
       "    <tr>\n",
       "      <th>t_order_mostExpensivePrice</th>\n",
       "      <td>-0.0043</td>\n",
       "      <td>0.7001</td>\n",
       "    </tr>\n",
       "    <tr>\n",
       "      <th>binnedColorCode</th>\n",
       "      <td>-0.0007</td>\n",
       "      <td>0.6965</td>\n",
       "    </tr>\n",
       "    <tr>\n",
       "      <th>t_isTypeTop</th>\n",
       "      <td>-0.0009</td>\n",
       "      <td>0.6967</td>\n",
       "    </tr>\n",
       "    <tr>\n",
       "      <th>orderDay</th>\n",
       "      <td>-0.0014</td>\n",
       "      <td>0.6972</td>\n",
       "    </tr>\n",
       "    <tr>\n",
       "      <th>t_order_sameArticlesCount_DiffSize</th>\n",
       "      <td>-0.0014</td>\n",
       "      <td>0.6972</td>\n",
       "    </tr>\n",
       "    <tr>\n",
       "      <th>sizeReturnProb</th>\n",
       "      <td>-0.0012</td>\n",
       "      <td>0.6970</td>\n",
       "    </tr>\n",
       "    <tr>\n",
       "      <th>relativeSavings</th>\n",
       "      <td>-0.0033</td>\n",
       "      <td>0.6991</td>\n",
       "    </tr>\n",
       "    <tr>\n",
       "      <th>totalSavings</th>\n",
       "      <td>-0.0017</td>\n",
       "      <td>0.6975</td>\n",
       "    </tr>\n",
       "    <tr>\n",
       "      <th>t_ssv</th>\n",
       "      <td>-0.0052</td>\n",
       "      <td>0.7010</td>\n",
       "    </tr>\n",
       "    <tr>\n",
       "      <th>t_isChristmas</th>\n",
       "      <td>-0.0026</td>\n",
       "      <td>0.6984</td>\n",
       "    </tr>\n",
       "    <tr>\n",
       "      <th>t_order_priceStd_A</th>\n",
       "      <td>-0.0024</td>\n",
       "      <td>0.6982</td>\n",
       "    </tr>\n",
       "    <tr>\n",
       "      <th>orderIsOnGermanHoliday</th>\n",
       "      <td>-0.0005</td>\n",
       "      <td>0.6963</td>\n",
       "    </tr>\n",
       "    <tr>\n",
       "      <th>deviceID</th>\n",
       "      <td>-0.0017</td>\n",
       "      <td>0.6975</td>\n",
       "    </tr>\n",
       "    <tr>\n",
       "      <th>t_order_duplicateCount</th>\n",
       "      <td>-0.0023</td>\n",
       "      <td>0.6981</td>\n",
       "    </tr>\n",
       "    <tr>\n",
       "      <th>t_order_article_sameArticlesCount</th>\n",
       "      <td>-0.0006</td>\n",
       "      <td>0.6964</td>\n",
       "    </tr>\n",
       "    <tr>\n",
       "      <th>paymentMethod</th>\n",
       "      <td>-0.0017</td>\n",
       "      <td>0.6975</td>\n",
       "    </tr>\n",
       "    <tr>\n",
       "      <th>t_reducedPaymentMethod_A</th>\n",
       "      <td>-0.0024</td>\n",
       "      <td>0.6982</td>\n",
       "    </tr>\n",
       "    <tr>\n",
       "      <th>voucherSavings</th>\n",
       "      <td>-0.0009</td>\n",
       "      <td>0.6967</td>\n",
       "    </tr>\n",
       "    <tr>\n",
       "      <th>orderWeek</th>\n",
       "      <td>-0.0041</td>\n",
       "      <td>0.6999</td>\n",
       "    </tr>\n",
       "    <tr>\n",
       "      <th>surplusArticleQuantity</th>\n",
       "      <td>-0.0017</td>\n",
       "      <td>0.6975</td>\n",
       "    </tr>\n",
       "    <tr>\n",
       "      <th>productPrice</th>\n",
       "      <td>-0.0007</td>\n",
       "      <td>0.6965</td>\n",
       "    </tr>\n",
       "    <tr>\n",
       "      <th>t_customer_boughtArticleCount</th>\n",
       "      <td>-0.0003</td>\n",
       "      <td>0.6961</td>\n",
       "    </tr>\n",
       "    <tr>\n",
       "      <th>customerAvgUnisize</th>\n",
       "      <td>-0.0044</td>\n",
       "      <td>0.7002</td>\n",
       "    </tr>\n",
       "    <tr>\n",
       "      <th>voucherAmount</th>\n",
       "      <td>-0.0027</td>\n",
       "      <td>0.6985</td>\n",
       "    </tr>\n",
       "    <tr>\n",
       "      <th>voucherID</th>\n",
       "      <td>-0.0078</td>\n",
       "      <td>0.7036</td>\n",
       "    </tr>\n",
       "    <tr>\n",
       "      <th>t_order_meanPrice</th>\n",
       "      <td>-0.0048</td>\n",
       "      <td>0.7006</td>\n",
       "    </tr>\n",
       "    <tr>\n",
       "      <th>t_order_cheapestPrice</th>\n",
       "      <td>-0.0010</td>\n",
       "      <td>0.6968</td>\n",
       "    </tr>\n",
       "    <tr>\n",
       "      <th>t_customer_orderCount</th>\n",
       "      <td>-0.0008</td>\n",
       "      <td>0.6966</td>\n",
       "    </tr>\n",
       "    <tr>\n",
       "      <th>t_order_article_sameArticlesCount_DiffColor</th>\n",
       "      <td>-0.0022</td>\n",
       "      <td>0.6980</td>\n",
       "    </tr>\n",
       "    <tr>\n",
       "      <th>surplusArticleSizeQuantity</th>\n",
       "      <td>-0.0003</td>\n",
       "      <td>0.6961</td>\n",
       "    </tr>\n",
       "  </tbody>\n",
       "</table>\n",
       "</div>"
      ],
      "text/plain": [
       "                                             decrement  precision\n",
       "t_order_boughtArticleCount                     -0.0007     0.6965\n",
       "t_order_mostExpensivePrice                     -0.0043     0.7001\n",
       "binnedColorCode                                -0.0007     0.6965\n",
       "t_isTypeTop                                    -0.0009     0.6967\n",
       "orderDay                                       -0.0014     0.6972\n",
       "t_order_sameArticlesCount_DiffSize             -0.0014     0.6972\n",
       "sizeReturnProb                                 -0.0012     0.6970\n",
       "relativeSavings                                -0.0033     0.6991\n",
       "totalSavings                                   -0.0017     0.6975\n",
       "t_ssv                                          -0.0052     0.7010\n",
       "t_isChristmas                                  -0.0026     0.6984\n",
       "t_order_priceStd_A                             -0.0024     0.6982\n",
       "orderIsOnGermanHoliday                         -0.0005     0.6963\n",
       "deviceID                                       -0.0017     0.6975\n",
       "t_order_duplicateCount                         -0.0023     0.6981\n",
       "t_order_article_sameArticlesCount              -0.0006     0.6964\n",
       "paymentMethod                                  -0.0017     0.6975\n",
       "t_reducedPaymentMethod_A                       -0.0024     0.6982\n",
       "voucherSavings                                 -0.0009     0.6967\n",
       "orderWeek                                      -0.0041     0.6999\n",
       "surplusArticleQuantity                         -0.0017     0.6975\n",
       "productPrice                                   -0.0007     0.6965\n",
       "t_customer_boughtArticleCount                  -0.0003     0.6961\n",
       "customerAvgUnisize                             -0.0044     0.7002\n",
       "voucherAmount                                  -0.0027     0.6985\n",
       "voucherID                                      -0.0078     0.7036\n",
       "t_order_meanPrice                              -0.0048     0.7006\n",
       "t_order_cheapestPrice                          -0.0010     0.6968\n",
       "t_customer_orderCount                          -0.0008     0.6966\n",
       "t_order_article_sameArticlesCount_DiffColor    -0.0022     0.6980\n",
       "surplusArticleSizeQuantity                     -0.0003     0.6961"
      ]
     },
     "execution_count": 6,
     "metadata": {},
     "output_type": "execute_result"
    }
   ],
   "source": [
    "res_tree[(res_tree.decrement < 0)]"
   ]
  },
  {
   "cell_type": "code",
   "execution_count": 7,
   "metadata": {
    "collapsed": false
   },
   "outputs": [
    {
     "name": "stdout",
     "output_type": "stream",
     "text": [
      "Improvement without customerAvgUnisize: 0.0012500000000003064\n",
      "Improvement without t_order_meanPrice: 0.0019849999999999035\n",
      "Improvement without binnedColorCode: 0.0028249999999999664\n",
      "Improvement without voucherID: 0.0034250000000001224\n",
      "Improvement without orderWeek: 0.0012750000000000261\n",
      "Improvement without t_order_boughtArticleCount: -0.0005700000000001815\n",
      "Improvement without deviceID: 0.0008550000000001612\n",
      "Improvement without t_order_mostExpensivePrice: -4.999999999810711e-06\n",
      "Improvement without t_order_sameArticlesCount: 0.0016049999999999676\n",
      "Improvement without t_reducedPaymentMethod_A: 0.0007649999999999046\n",
      "Improvement without t_order_cheapestPrice: 0.002274999999999916\n",
      "Improvement without productGroup: 0.0020450000000000745\n",
      "Improvement without t_wsv: -0.00043499999999985217\n"
     ]
    },
    {
     "ename": "KeyboardInterrupt",
     "evalue": "",
     "output_type": "error",
     "traceback": [
      "\u001b[1;31m---------------------------------------------------------------------------\u001b[0m",
      "\u001b[1;31mKeyboardInterrupt\u001b[0m                         Traceback (most recent call last)",
      "\u001b[1;32m<ipython-input-7-03f1744bb336>\u001b[0m in \u001b[0;36m<module>\u001b[1;34m()\u001b[0m\n\u001b[0;32m      1\u001b[0m \u001b[0mkick_features\u001b[0m \u001b[1;33m=\u001b[0m \u001b[1;36m20\u001b[0m\u001b[1;33m\u001b[0m\u001b[0m\n\u001b[0;32m      2\u001b[0m \u001b[1;32mfor\u001b[0m \u001b[0mi\u001b[0m \u001b[1;32min\u001b[0m \u001b[0mrange\u001b[0m\u001b[1;33m(\u001b[0m\u001b[0mkick_features\u001b[0m\u001b[1;33m)\u001b[0m\u001b[1;33m:\u001b[0m\u001b[1;33m\u001b[0m\u001b[0m\n\u001b[1;32m----> 3\u001b[1;33m     \u001b[0mimprovement_without_feature\u001b[0m \u001b[1;33m=\u001b[0m \u001b[0mdmc\u001b[0m\u001b[1;33m.\u001b[0m\u001b[0mevaluation\u001b[0m\u001b[1;33m.\u001b[0m\u001b[0mevaluate_without_one_feature\u001b[0m\u001b[1;33m(\u001b[0m\u001b[0mtrain\u001b[0m\u001b[1;33m[\u001b[0m\u001b[1;36m0\u001b[0m\u001b[1;33m]\u001b[0m\u001b[1;33m,\u001b[0m \u001b[0mtrain\u001b[0m\u001b[1;33m[\u001b[0m\u001b[1;36m1\u001b[0m\u001b[1;33m]\u001b[0m\u001b[1;33m,\u001b[0m \u001b[0mtest\u001b[0m\u001b[1;33m[\u001b[0m\u001b[1;36m0\u001b[0m\u001b[1;33m]\u001b[0m\u001b[1;33m,\u001b[0m \u001b[0mtest\u001b[0m\u001b[1;33m[\u001b[0m\u001b[1;36m1\u001b[0m\u001b[1;33m]\u001b[0m\u001b[1;33m,\u001b[0m \u001b[0mfts\u001b[0m\u001b[1;33m,\u001b[0m \u001b[0msorted_impact_list\u001b[0m\u001b[1;33m[\u001b[0m\u001b[0mi\u001b[0m\u001b[1;33m]\u001b[0m\u001b[1;33m[\u001b[0m\u001b[1;36m0\u001b[0m\u001b[1;33m]\u001b[0m\u001b[1;33m,\u001b[0m \u001b[0mdmc\u001b[0m\u001b[1;33m.\u001b[0m\u001b[0mclassifiers\u001b[0m\u001b[1;33m.\u001b[0m\u001b[0mDecisionTree\u001b[0m\u001b[1;33m,\u001b[0m \u001b[1;36m20\u001b[0m\u001b[1;33m)\u001b[0m\u001b[1;33m\u001b[0m\u001b[0m\n\u001b[0m\u001b[0;32m      4\u001b[0m     \u001b[0mprint\u001b[0m\u001b[1;33m(\u001b[0m\u001b[0mimprovement_without_feature\u001b[0m\u001b[1;33m)\u001b[0m\u001b[1;33m\u001b[0m\u001b[0m\n",
      "\u001b[1;32m/home/bpm1/BigData/run-dmc/dmc/evaluation.py\u001b[0m in \u001b[0;36mevaluate_without_one_feature\u001b[1;34m(X_train, Y_train, X_class, Y_class, feature_header, ignore_feature, classifier, n)\u001b[0m\n\u001b[0;32m    114\u001b[0m     \u001b[1;32mfor\u001b[0m \u001b[0mi\u001b[0m \u001b[1;32min\u001b[0m \u001b[0mrange\u001b[0m\u001b[1;33m(\u001b[0m\u001b[0mn\u001b[0m\u001b[1;33m)\u001b[0m\u001b[1;33m:\u001b[0m\u001b[1;33m\u001b[0m\u001b[0m\n\u001b[0;32m    115\u001b[0m         \u001b[0mclf\u001b[0m \u001b[1;33m=\u001b[0m \u001b[0mclassifier\u001b[0m\u001b[1;33m(\u001b[0m\u001b[0mX_train\u001b[0m\u001b[1;33m,\u001b[0m \u001b[0mY_train\u001b[0m\u001b[1;33m)\u001b[0m\u001b[1;33m\u001b[0m\u001b[0m\n\u001b[1;32m--> 116\u001b[1;33m         \u001b[0mbaseline\u001b[0m \u001b[1;33m=\u001b[0m \u001b[0mprecision\u001b[0m\u001b[1;33m(\u001b[0m\u001b[0mY_class\u001b[0m\u001b[1;33m,\u001b[0m \u001b[0mclf\u001b[0m\u001b[1;33m(\u001b[0m\u001b[0mX_class\u001b[0m\u001b[1;33m)\u001b[0m\u001b[1;33m)\u001b[0m\u001b[1;33m\u001b[0m\u001b[0m\n\u001b[0m\u001b[0;32m    117\u001b[0m         \u001b[0mftsl\u001b[0m\u001b[1;33m,\u001b[0m \u001b[0mseen\u001b[0m \u001b[1;33m=\u001b[0m \u001b[0mlist\u001b[0m\u001b[1;33m(\u001b[0m\u001b[0mfeature_header\u001b[0m\u001b[1;33m)\u001b[0m\u001b[1;33m,\u001b[0m \u001b[0mset\u001b[0m\u001b[1;33m(\u001b[0m\u001b[1;33m)\u001b[0m\u001b[1;33m\u001b[0m\u001b[0m\n\u001b[0;32m    118\u001b[0m         res = pd.DataFrame(index=set(ftsl + ['all']),\n",
      "\u001b[1;32m/home/bpm1/BigData/run-dmc/dmc/classifiers.py\u001b[0m in \u001b[0;36m__call__\u001b[1;34m(self, X)\u001b[0m\n\u001b[0;32m     33\u001b[0m                 \u001b[0mprint\u001b[0m\u001b[1;33m(\u001b[0m\u001b[0me\u001b[0m\u001b[1;33m)\u001b[0m\u001b[1;33m\u001b[0m\u001b[0m\n\u001b[0;32m     34\u001b[0m                 \u001b[1;32mpass\u001b[0m\u001b[1;33m\u001b[0m\u001b[0m\n\u001b[1;32m---> 35\u001b[1;33m         \u001b[0mself\u001b[0m\u001b[1;33m.\u001b[0m\u001b[0mfit\u001b[0m\u001b[1;33m(\u001b[0m\u001b[1;33m)\u001b[0m\u001b[1;33m\u001b[0m\u001b[0m\n\u001b[0m\u001b[0;32m     36\u001b[0m         \u001b[1;32mreturn\u001b[0m \u001b[0mself\u001b[0m\u001b[1;33m.\u001b[0m\u001b[0mpredict\u001b[0m\u001b[1;33m(\u001b[0m\u001b[0mX\u001b[0m\u001b[1;33m)\u001b[0m\u001b[1;33m\u001b[0m\u001b[0m\n\u001b[0;32m     37\u001b[0m \u001b[1;33m\u001b[0m\u001b[0m\n",
      "\u001b[1;32m/home/bpm1/BigData/run-dmc/dmc/classifiers.py\u001b[0m in \u001b[0;36mfit\u001b[1;34m(self)\u001b[0m\n\u001b[0;32m     60\u001b[0m \u001b[1;33m\u001b[0m\u001b[0m\n\u001b[0;32m     61\u001b[0m     \u001b[1;32mdef\u001b[0m \u001b[0mfit\u001b[0m\u001b[1;33m(\u001b[0m\u001b[0mself\u001b[0m\u001b[1;33m)\u001b[0m\u001b[1;33m:\u001b[0m\u001b[1;33m\u001b[0m\u001b[0m\n\u001b[1;32m---> 62\u001b[1;33m         \u001b[0mself\u001b[0m\u001b[1;33m.\u001b[0m\u001b[0mclf\u001b[0m\u001b[1;33m.\u001b[0m\u001b[0mfit\u001b[0m\u001b[1;33m(\u001b[0m\u001b[0mself\u001b[0m\u001b[1;33m.\u001b[0m\u001b[0mX\u001b[0m\u001b[1;33m,\u001b[0m \u001b[0mself\u001b[0m\u001b[1;33m.\u001b[0m\u001b[0mY\u001b[0m\u001b[1;33m)\u001b[0m\u001b[1;33m\u001b[0m\u001b[0m\n\u001b[0m\u001b[0;32m     63\u001b[0m         \u001b[1;32mreturn\u001b[0m \u001b[0mself\u001b[0m\u001b[1;33m\u001b[0m\u001b[0m\n\u001b[0;32m     64\u001b[0m \u001b[1;33m\u001b[0m\u001b[0m\n",
      "\u001b[1;32m/home/bpm1/BigData/run-dmc/venv/lib/python3.4/site-packages/sklearn/tree/tree.py\u001b[0m in \u001b[0;36mfit\u001b[1;34m(self, X, y, sample_weight, check_input, X_idx_sorted)\u001b[0m\n\u001b[0;32m    348\u001b[0m                                            max_leaf_nodes)\n\u001b[0;32m    349\u001b[0m \u001b[1;33m\u001b[0m\u001b[0m\n\u001b[1;32m--> 350\u001b[1;33m         \u001b[0mbuilder\u001b[0m\u001b[1;33m.\u001b[0m\u001b[0mbuild\u001b[0m\u001b[1;33m(\u001b[0m\u001b[0mself\u001b[0m\u001b[1;33m.\u001b[0m\u001b[0mtree_\u001b[0m\u001b[1;33m,\u001b[0m \u001b[0mX\u001b[0m\u001b[1;33m,\u001b[0m \u001b[0my\u001b[0m\u001b[1;33m,\u001b[0m \u001b[0msample_weight\u001b[0m\u001b[1;33m,\u001b[0m \u001b[0mX_idx_sorted\u001b[0m\u001b[1;33m)\u001b[0m\u001b[1;33m\u001b[0m\u001b[0m\n\u001b[0m\u001b[0;32m    351\u001b[0m \u001b[1;33m\u001b[0m\u001b[0m\n\u001b[0;32m    352\u001b[0m         \u001b[1;32mif\u001b[0m \u001b[0mself\u001b[0m\u001b[1;33m.\u001b[0m\u001b[0mn_outputs_\u001b[0m \u001b[1;33m==\u001b[0m \u001b[1;36m1\u001b[0m\u001b[1;33m:\u001b[0m\u001b[1;33m\u001b[0m\u001b[0m\n",
      "\u001b[1;31mKeyboardInterrupt\u001b[0m: "
     ]
    }
   ],
   "source": [
    "kick_features = 20\n",
    "for i in range(kick_features):\n",
    "    improvement_without_feature = dmc.evaluation.evaluate_without_one_feature(train[0], train[1], test[0], test[1], fts, sorted_impact_list[i][0], dmc.classifiers.DecisionTree, 20)\n",
    "    print(improvement_without_feature)"
   ]
  },
  {
   "cell_type": "code",
   "execution_count": 11,
   "metadata": {
    "collapsed": false,
    "scrolled": true
   },
   "outputs": [
    {
     "name": "stdout",
     "output_type": "stream",
     "text": [
      "0\n"
     ]
    },
    {
     "name": "stderr",
     "output_type": "stream",
     "text": [
      "/home/bpm1/BigData/run-dmc/venv/lib/python3.4/site-packages/pandas/core/generic.py:2701: SettingWithCopyWarning: \n",
      "A value is trying to be set on a copy of a slice from a DataFrame.\n",
      "Try using .loc[row_indexer,col_indexer] = value instead\n",
      "\n",
      "See the caveats in the documentation: http://pandas.pydata.org/pandas-docs/stable/indexing.html#indexing-view-versus-copy\n",
      "  self[name] = value\n"
     ]
    },
    {
     "name": "stdout",
     "output_type": "stream",
     "text": [
      "1\n",
      "2\n",
      "3\n",
      "4\n",
      "[('t_isWeekend_A', -0.0021200000000000329), ('price', -0.0017400000000000527), ('t_article_priceChangeSTD_A', -0.0017000000000000127), ('totalSavings', -0.0016800000000000369), ('surplusArticleQuantity', -0.0016800000000000369), ('t_order_boughtArticleCount', -0.0016600000000000169), ('t_isGift', -0.0015000000000000568), ('t_article_availableColors', -0.0015000000000000568), ('colorReturnProb', -0.0014000000000000013), ('t_wsv', -0.0012800000000000368), ('t_order_sameArticlesCount', -0.0012800000000000144), ('t_customer_boughtArticleCount', -0.0010600000000000164), ('t_order_boughtArticleTypeCount', -0.001000000000000023), ('orderDay', -0.001000000000000023), ('totalOrderShare', -0.00089999999999998968), ('quantity', -0.00078000000000002514), ('t_isTypePants', -0.00076000000000002736), ('t_order_sameArticlesCount_DiffSize', -0.00064000000000001838), ('t_sizeCodeNumerized', -0.00054000000000000716), ('t_reducedPaymentMethod_A', -0.00044000000000001818), ('sizeCode', -0.00044000000000001818), ('t_isTypeTop', -0.00028000000000001358), ('orderDayOfYear', -0.00020000000000002237), ('surplusArticleSizeQuantity', -0.00015999999999998237), ('t_ssv', -0.00014000000000000679), ('productGroup', -0.00013999999999998459), ('orderYear', -9.9999999999988987e-05), ('deviceID', -8.0000000000035595e-05), ('voucherSavings', -6.0000000000015594e-05), ('t_paymentWithFee_A', -4.0000000000062209e-05), ('t_singleItemPrice', -4.0000000000017798e-05), ('t_order_mostExpensivePrice', -2.2204460492503132e-17), ('t_unisize', 1.9999999999997796e-05), ('t_voucher_is10PercentVoucher', 3.9999999999973393e-05), ('t_order_totalPrice', 6.0000000000015594e-05), ('t_isChristmas', 7.9999999999946786e-05), ('orderQuarter', 9.9999999999966788e-05), ('t_customer_orderCount', 9.9999999999988987e-05), ('t_isOneSize_A', 0.00013999999999998459), ('binnedColorCode', 0.00015999999999998237), ('orderIsOnGermanHoliday', 0.00017999999999995797), ('t_article_availableSizes', 0.00019999999999997797), ('orderWeek', 0.00031999999999998696), ('surplusArticleColorQuantity', 0.00033999999999996257), ('t_voucher_isGiftVoucher', 0.00040000000000000034), ('t_voucher_isValueVoucher', 0.00043999999999999595), ('t_order_totalPrice_diff_voucherAmount', 0.00043999999999999595), ('t_order_article_sameArticlesCount_DiffColor', 0.00047999999999996933), ('t_order_sameArticlesCount_DiffColor', 0.00057999999999998049), ('t_singleItemPrice_diff_rrp', 0.00059999999999995615), ('t_order_priceStd_A', 0.00061999999999995392), ('t_order_meanPrice', 0.00063999999999999615), ('t_article_boughtCountGlobal', 0.00071999999999998736), ('productPrice', 0.00078000000000000291), ('t_voucher_is15PercentVoucher', 0.00083999999999997412), ('sizeReturnProb', 0.0008799999999999919), ('orderWeekDay', 0.00091999999999998745), ('t_order_article_sameArticlesCount_DiffSize', 0.00095999999999998311), ('customerAvgUnisize', 0.00099999999999997877), ('t_unisizeOffset', 0.0010399999999999743), ('paymentMethod', 0.0010799999999999699), ('t_order_duplicateCount', 0.001079999999999992), ('colorCode', 0.001159999999999961), ('orderTotalDay', 0.0012199999999999767), ('voucherID', 0.0012599999999999723), ('t_customer_voucherCount', 0.0012600000000000167), ('t_isTypeBelt', 0.0012999999999999678), ('productGroupReturnProb', 0.001399999999999979), ('rrp', 0.0014199999999999768), ('orderWeekOfYear', 0.0014399999999999524), ('t_order_article_sameArticlesCount', 0.0018399999999999528), ('t_order_hasVoucher_A', 0.0019599999999999839), ('voucherAmount', 0.0020599999999999508), ('t_order_cheapestPrice', 0.0020599999999999729), ('relativeSavings', 0.0021199999999999665), ('orderSeason', 0.002300000000000013), ('orderMonth', 0.0025599999999999399), ('articleID', 0.0082599999999999792), ('customerReturnProb', 0.11981999999999997)]\n"
     ]
    }
   ],
   "source": [
    "n = 5\n",
    "impact_map = dict()\n",
    "feature_set = set(fts)\n",
    "for feature in fts:\n",
    "    impact_map[feature] = 0.\n",
    "\n",
    "for j in range(n):\n",
    "    print(j)\n",
    "    df = p.shuffle(df)\n",
    "    start, end, split = pd.Timestamp('2014-1-1'), pd.Timestamp('2014-12-31'), pd.Timestamp('2014-10-1')\n",
    "    df.orderDate = pd.to_datetime(df.orderDate)\n",
    "    mask = (df.orderDate >= start) & (df.orderDate <= end)\n",
    "    df_full = df[mask]\n",
    "    te_size = 10000\n",
    "    tr_size = 10000\n",
    "    X, Y, fts = dmc.transformation.transform_preserving_header(df_full, scaler=dmc.transformation.scale_features, binary_target=True)\n",
    "    train = X[:tr_size], Y[:tr_size]\n",
    "    test = X[tr_size:tr_size+te_size], Y[tr_size:tr_size+te_size]\n",
    "\n",
    "    res_tree = dmc.evaluation.evaluate_features_leaving_one_out(train[0], train[1], test[0], test[1], fts, dmc.classifiers.DecisionTree)\n",
    "    for feature in feature_set:\n",
    "            impact_map[feature] = impact_map[feature] + res_tree.decrement[feature]\n",
    "            \n",
    "for key, value in impact_map.items():\n",
    "    impact_map[key] = value / n\n",
    "\n",
    "import operator\n",
    "sorted_impact_list = sorted(impact_map.items(), key=operator.itemgetter(1))\n",
    "print(sorted_impact_list)"
   ]
  },
  {
   "cell_type": "code",
   "execution_count": null,
   "metadata": {
    "collapsed": true
   },
   "outputs": [],
   "source": []
  }
 ],
 "metadata": {
  "kernelspec": {
   "display_name": "Python 3",
   "language": "python",
   "name": "python3"
  },
  "language_info": {
   "codemirror_mode": {
    "name": "ipython",
    "version": 3
   },
   "file_extension": ".py",
   "mimetype": "text/x-python",
   "name": "python",
   "nbconvert_exporter": "python",
   "pygments_lexer": "ipython3",
   "version": "3.4.3"
  }
 },
 "nbformat": 4,
 "nbformat_minor": 0
}
