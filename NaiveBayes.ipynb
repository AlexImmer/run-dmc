{
 "cells": [
  {
   "cell_type": "code",
   "execution_count": 1,
   "metadata": {
    "collapsed": true
   },
   "outputs": [],
   "source": [
    "%load_ext autoreload\n",
    "%autoreload 2"
   ]
  },
  {
   "cell_type": "code",
   "execution_count": 2,
   "metadata": {
    "collapsed": false
   },
   "outputs": [
    {
     "name": "stdout",
     "output_type": "stream",
     "text": [
      "Tensorflow not installed\n"
     ]
    }
   ],
   "source": [
    "import pandas as pd\n",
    "import numpy as np\n",
    "import dmc\n",
    "from process import processed_data"
   ]
  },
  {
   "cell_type": "code",
   "execution_count": 3,
   "metadata": {
    "collapsed": false
   },
   "outputs": [],
   "source": [
    "data = processed_data()\n",
    "train_ids, test_ids = dmc.loading.load_ids('rawMirrored')\n",
    "train, test = dmc.preprocessing.split_train_test(data, train_ids, test_ids)\n",
    "data = data.drop('Unnamed: 0', 1)"
   ]
  },
  {
   "cell_type": "markdown",
   "metadata": {},
   "source": [
    "## Evaluate and boost naive bayes on mirrored"
   ]
  },
  {
   "cell_type": "code",
   "execution_count": 5,
   "metadata": {
    "collapsed": false
   },
   "outputs": [],
   "source": [
    "offset = len(train)\n",
    "X, y = dmc.transformation.transform(data, ignore_features=['returnQuantity', 'orderID', 'orderDate', 'customerID'],\n",
    "                                    binary_target=False)"
   ]
  },
  {
   "cell_type": "code",
   "execution_count": 5,
   "metadata": {
    "collapsed": true
   },
   "outputs": [],
   "source": [
    "fts = dmc.transformation.transform_feature_matrix_ph(data, ignore_features=['returnQuantity', 'orderID', 'orderDate'])"
   ]
  },
  {
   "cell_type": "code",
   "execution_count": 6,
   "metadata": {
    "collapsed": false
   },
   "outputs": [],
   "source": [
    "from dmc.classifiers import NaiveBayes, NaiveBayesM"
   ]
  },
  {
   "cell_type": "code",
   "execution_count": 7,
   "metadata": {
    "collapsed": false
   },
   "outputs": [],
   "source": [
    "train = X[:offset], y[:offset]\n",
    "test = X[offset:], y[offset:]"
   ]
  },
  {
   "cell_type": "code",
   "execution_count": 14,
   "metadata": {
    "collapsed": false
   },
   "outputs": [
    {
     "name": "stdout",
     "output_type": "stream",
     "text": [
      "0.6461661409398811  using  <class 'dmc.classifiers.NaiveBayes'>\n"
     ]
    }
   ],
   "source": [
    "# standard naive bayes\n",
    "clf = NaiveBayes(train[0], train[1])\n",
    "res = clf(test[0])\n",
    "precision = dmc.evaluation.precision(res, test[1])\n",
    "print(precision, ' using ', str(NaiveBayes))"
   ]
  },
  {
   "cell_type": "code",
   "execution_count": 8,
   "metadata": {
    "collapsed": false
   },
   "outputs": [],
   "source": [
    "feature_evaluation = dmc.evaluation.evaluate_features_leaving_one_out(train[0], train[1], test[0], test[1],\n",
    "                                                                      fts, NaiveBayes)"
   ]
  },
  {
   "cell_type": "code",
   "execution_count": 15,
   "metadata": {
    "collapsed": false
   },
   "outputs": [
    {
     "name": "stdout",
     "output_type": "stream",
     "text": [
      "Train and Evaluate\n",
      "0.6541070114757841\n"
     ]
    }
   ],
   "source": [
    "# boosted with target set knowledge\n",
    "negative_features = set(feature_evaluation.index[feature_evaluation.decrement < 0])\n",
    "fts_series = pd.Series(fts).apply(lambda x: False if x in negative_features else True)\n",
    "fts_mask = np.array(fts_series)\n",
    "X_tr, X_cl = train[0].T[fts_mask].T, test[0].T[fts_mask].T\n",
    "print('Train and Evaluate')\n",
    "clf = NaiveBayes(X_tr, train[1])\n",
    "prec = dmc.evaluation.precision(test[1], clf(X_cl))\n",
    "print(prec)"
   ]
  },
  {
   "cell_type": "markdown",
   "metadata": {},
   "source": [
    "## Use ensemble and optimize each splits for used features"
   ]
  },
  {
   "cell_type": "code",
   "execution_count": 4,
   "metadata": {
    "collapsed": false
   },
   "outputs": [],
   "source": [
    "ensemble = dmc.ensemble.Ensemble(train, test)"
   ]
  },
  {
   "cell_type": "code",
   "execution_count": null,
   "metadata": {
    "collapsed": true
   },
   "outputs": [],
   "source": [
    "splits = len(ensemble.splits)\n",
    "ensemble.transform(scalers='find out', ignore_features=None)"
   ]
  },
  {
   "cell_type": "markdown",
   "metadata": {},
   "source": [
    "## Evaluate final precision"
   ]
  },
  {
   "cell_type": "code",
   "execution_count": 44,
   "metadata": {
    "collapsed": false,
    "scrolled": true
   },
   "outputs": [
    {
     "name": "stdout",
     "output_type": "stream",
     "text": [
      "precision 0.00435064935065 with <class 'dmc.classifiers.DecisionTree'>\n",
      "precision 0.00391233766234 with <class 'dmc.classifiers.NaiveBayes'>\n",
      "precision 0.00393181818182 with <class 'dmc.classifiers.Forest'>\n"
     ]
    }
   ],
   "source": [
    "classifiers = [dmc.classifiers.DecisionTree, dmc.classifiers.NaiveBayes, dmc.classifiers.Forest]\n",
    "Xn = X[y > 0]\n",
    "yn = y[y > 0]\n",
    "for clf in classifiers:\n",
    "    c = clf(Xn[:900000], yn[:900000])\n",
    "    pred = c(Xn[900000:])\n",
    "    print('precision', dmc.evaluation.dmc_cost_relative(pred, yn[900000:]), 'with', clf)"
   ]
  },
  {
   "cell_type": "markdown",
   "metadata": {},
   "source": [
    "Test on Train:\n",
    "```\n",
    "precision 8.27814569536e-07 with <class 'dmc.classifiers.DecisionTree'>\n",
    "precision 0.00368625827815 with <class 'dmc.classifiers.NaiveBayes'>\n",
    "precision 8.27814569536e-07 with <class 'dmc.classifiers.Forest'>\n",
    "```\n",
    "\n",
    "Test on 25%, Train on 75%:\n",
    "```\n",
    "precision 0.00435064935065 with <class 'dmc.classifiers.DecisionTree'>\n",
    "precision 0.00391233766234 with <class 'dmc.classifiers.NaiveBayes'>\n",
    "precision 0.00393181818182 with <class 'dmc.classifiers.Forest'>\n",
    "```\n",
    "\n",
    "Evaluation of rule approach versus classifier approach"
   ]
  },
  {
   "cell_type": "code",
   "execution_count": 39,
   "metadata": {
    "collapsed": false
   },
   "outputs": [
    {
     "name": "stdout",
     "output_type": "stream",
     "text": [
      "precision 0.00285924286603\n"
     ]
    }
   ],
   "source": [
    "def switch_predictor(quantity):\n",
    "    if quantity == 1:\n",
    "        return 1\n",
    "    elif quantity == 2:\n",
    "        return 1\n",
    "    elif quantity == 3:\n",
    "        return 2\n",
    "    elif quantity == 4:\n",
    "        return 2\n",
    "    elif quantity == 5:\n",
    "        return 3\n",
    "    print('FAIL')\n",
    "    return None\n",
    "\n",
    "evalframe = test[test.returnQuantity > 0]\n",
    "pred = evalframe.quantity.apply(switch_predictor)\n",
    "print('precision', dmc.evaluation.dmc_cost_relative(pred, evalframe.returnQuantity))"
   ]
  },
  {
   "cell_type": "markdown",
   "metadata": {},
   "source": [
    "Predicting using the above switch is the most precise way if one does not want to train a specially optimized regressor/classifier."
   ]
  },
  {
   "cell_type": "code",
   "execution_count": null,
   "metadata": {
    "collapsed": true
   },
   "outputs": [],
   "source": []
  }
 ],
 "metadata": {
  "kernelspec": {
   "display_name": "Python 3",
   "language": "python",
   "name": "python3"
  },
  "language_info": {
   "codemirror_mode": {
    "name": "ipython",
    "version": 3
   },
   "file_extension": ".py",
   "mimetype": "text/x-python",
   "name": "python",
   "nbconvert_exporter": "python",
   "pygments_lexer": "ipython3",
   "version": "3.5.1"
  }
 },
 "nbformat": 4,
 "nbformat_minor": 0
}
