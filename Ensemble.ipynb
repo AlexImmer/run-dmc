{
 "cells": [
  {
   "cell_type": "code",
   "execution_count": 1,
   "metadata": {
    "collapsed": true
   },
   "outputs": [],
   "source": [
    "%load_ext autoreload\n",
    "%autoreload 2"
   ]
  },
  {
   "cell_type": "code",
   "execution_count": 15,
   "metadata": {
    "collapsed": false
   },
   "outputs": [],
   "source": [
    "import dmc\n",
    "from process import *"
   ]
  },
  {
   "cell_type": "code",
   "execution_count": 16,
   "metadata": {
    "collapsed": true
   },
   "outputs": [],
   "source": [
    "evaluation_sets = ['rawMirrored', 'rawLinearSample']\n",
    "data = processed_data()"
   ]
  },
  {
   "cell_type": "code",
   "execution_count": 17,
   "metadata": {
    "collapsed": true
   },
   "outputs": [],
   "source": [
    "train, test = split_data_by_id(data, 'rawMirrored')"
   ]
  },
  {
   "cell_type": "code",
   "execution_count": 18,
   "metadata": {
    "collapsed": false
   },
   "outputs": [
    {
     "data": {
      "text/plain": [
       "(947782, 236498)"
      ]
     },
     "execution_count": 18,
     "metadata": {},
     "output_type": "execute_result"
    }
   ],
   "source": [
    "len(train), len(test)"
   ]
  },
  {
   "cell_type": "code",
   "execution_count": 37,
   "metadata": {
    "collapsed": true
   },
   "outputs": [],
   "source": [
    "ensemble = dmc.ensemble.Ensemble(train[:10000], test[:10000])"
   ]
  },
  {
   "cell_type": "code",
   "execution_count": 38,
   "metadata": {},
   "outputs": [
    {
     "name": "stdout",
     "output_type": "stream",
     "text": [
      "11 known_articleID-known_customerID-known_voucherID-known_productGroup\n104 known_articleID-unknown_customerID-unknown_voucherID-known_productGroup\n322 known_articleID-unknown_customerID-known_voucherID-known_productGroup\n182 unknown_articleID-known_customerID-known_voucherID-known_productGroup\n7004 unknown_articleID-unknown_customerID-known_voucherID-known_productGroup\n2311 unknown_articleID-unknown_customerID-unknown_voucherID-known_productGroup\n63 unknown_articleID-known_customerID-unknown_voucherID-known_productGroup\n3 known_articleID-known_customerID-unknown_voucherID-known_productGroup\n"
     ]
    }
   ],
   "source": [
    "for k in ensemble.splits:\n",
    "    print(len(ensemble.splits[k][1]), k)"
   ]
  },
  {
   "cell_type": "code",
   "execution_count": 39,
   "metadata": {
    "collapsed": false
   },
   "outputs": [
    {
     "name": "stdout",
     "output_type": "stream",
     "text": [
      "['colorCode', 'sizeCode', 'quantity', 'price', 'rrp', 'voucherAmount', 'deviceID', 'paymentMethod', 't_wsv', 't_ssv', 't_singleItemPrice_diff_rrp', 't_sizeCodeNumerized', 't_unisize', 't_paymentWithFee_A', 't_customer_boughtArticleCount', 't_customer_orderCount', 't_customer_voucherCount', 't_customer_avgUnisize', 't_order_boughtArticleTypeCount', 't_order_boughtArticleCount', 't_order_duplicateCount', 't_order_sameArticlesCount', 't_order_totalPrice', 't_order_meanPrice', 't_order_cheapestPrice', 't_order_mostExpensivePrice', 't_order_totalPrice_diff_voucherAmount', 't_order_priceStd_A', 't_order_hasVoucher_A', 't_order_sameArticlesCount_DiffSize', 't_order_sameArticlesCount_DiffColor', 't_article_priceChangeSTD_A', 't_order_article_sameArticlesCount', 't_order_article_sameArticlesCount_DiffColor', 't_voucher_isGiftVoucher', 't_voucher_isValueVoucher', 't_unisizeOffset', 'totalSavings', 'relativeSavings', 'orderYear', 'orderDay', 'orderDayOfYear', 'orderWeek', 'orderQuarter', 'orderTotalDay', 'orderSeason', 'orderIsOnGermanHoliday', 'surplusArticleSizeQuantity', 'surplusArticleColorQuantity', 'voucherSavings', 'products3DayNeighborhood', 'products14DayNeighborhood', 'products30DayNeighborhood', 'sizeReturnProb', 'binnedColorCode', 'colorReturnProb']\n"
     ]
    }
   ],
   "source": [
    "import csv\n",
    "import pandas as pd\n",
    "\n",
    "dropped_fts = ['t_singleItemPrice', 't_isTypePants', 't_isTypeBelt', 't_isTypeTop'\n",
    "    , 't_isWeekend_A', 't_isOneSize_A', 't_voucher_is10PercentVoucher'\n",
    "    , 't_voucher_is15PercentVoucher', 'customerAvgUnisize','voucherID']\n",
    "file_name = 'ArticleProductgroupCustomer.csv'\n",
    "with open('/Users/Fabian/Downloads/documents-export-2016-05-11/Sets_SVM_' +\n",
    "                  file_name) as csv_file:\n",
    "    for index, row in enumerate(csv.reader(csv_file, delimiter=',')):\n",
    "        if index == 0:\n",
    "\n",
    "            series_a = pd.Series(row[1:])\n",
    "        else:\n",
    "            series_b = pd.Series(row[1:])\n",
    "feature_table = pd.DataFrame({'feature': series_a, \"value\": series_b})\n",
    "unimp_fts = feature_table[feature_table['value'] == '0.0']['feature'].tolist()\n",
    "for drop in dropped_fts:\n",
    "    unimp_fts.remove(drop)\n",
    "print(unimp_fts)"
   ]
  },
  {
   "cell_type": "code",
   "execution_count": 40,
   "metadata": {
    "collapsed": false
   },
   "outputs": [
    {
     "name": "stderr",
     "output_type": "stream",
     "text": [
      "/Users/Fabian/Documents/HPI/Semester_6/Big_Data_Analytics_Lab/run-dmc/env/lib/python3.5/site-packages/scipy/sparse/compressed.py:730: SparseEfficiencyWarning: Changing the sparsity structure of a csr_matrix is expensive. lil_matrix is more efficient.\n  SparseEfficiencyWarning)\n"
     ]
    },
    {
     "name": "stderr",
     "output_type": "stream",
     "text": [
      "/Users/Fabian/Documents/HPI/Semester_6/Big_Data_Analytics_Lab/run-dmc/env/lib/python3.5/site-packages/scipy/sparse/compressed.py:730: SparseEfficiencyWarning: Changing the sparsity structure of a csr_matrix is expensive. lil_matrix is more efficient.\n  SparseEfficiencyWarning)\n"
     ]
    },
    {
     "name": "stderr",
     "output_type": "stream",
     "text": [
      "/Users/Fabian/Documents/HPI/Semester_6/Big_Data_Analytics_Lab/run-dmc/env/lib/python3.5/site-packages/scipy/sparse/compressed.py:730: SparseEfficiencyWarning: Changing the sparsity structure of a csr_matrix is expensive. lil_matrix is more efficient.\n  SparseEfficiencyWarning)\n"
     ]
    }
   ],
   "source": [
    "ensemble.transform(binary_target=True, scalers=[dmc.transformation.normalize_raw_features]*10, \n",
    "                   ignore_features=[unimp_fts] * 10)"
   ]
  },
  {
   "cell_type": "code",
   "execution_count": 41,
   "metadata": {
    "collapsed": true
   },
   "outputs": [
    {
     "name": "stdout",
     "output_type": "stream",
     "text": [
      "known_articleID-known_customerID-known_voucherID-known_productGroup : size  11  prec  0.7272727272727273\n--------------------------------------\nknown_articleID-unknown_customerID-unknown_voucherID-known_productGroup : size  104  prec  0.375\n--------------------------------------\nknown_articleID-unknown_customerID-known_voucherID-known_productGroup : size  322  prec  0.5248447204968945\n--------------------------------------\nunknown_articleID-known_customerID-known_voucherID-known_productGroup : size  182  prec  0.5494505494505495\n--------------------------------------\nunknown_articleID-unknown_customerID-known_voucherID-known_productGroup : size  7004  prec  0.6344945745288406\n--------------------------------------\nunknown_articleID-unknown_customerID-unknown_voucherID-known_productGroup : size  2311  prec  0.6205106014712245\n--------------------------------------\nunknown_articleID-known_customerID-unknown_voucherID-known_productGroup : size  63  prec  0.6984126984126984\n--------------------------------------\nknown_articleID-known_customerID-unknown_voucherID-known_productGroup : size  3  prec  1.0\n--------------------------------------\nOverall : 0.6240999999999999 3759\n"
     ]
    }
   ],
   "source": [
    "ensemble.classify([SVM] * len(ensemble.splits))"
   ]
  },
  {
   "cell_type": "code",
   "execution_count": 35,
   "metadata": {},
   "outputs": [
    {
     "data": {
      "text/plain": [
       "8"
      ]
     },
     "execution_count": 35,
     "metadata": {},
     "output_type": "execute_result"
    }
   ],
   "source": [
    "len(ensemble.splits)"
   ]
  },
  {
   "cell_type": "code",
   "execution_count": null,
   "metadata": {},
   "outputs": [],
   "source": [
    ""
   ]
  },
  {
   "cell_type": "code",
   "execution_count": null,
   "metadata": {},
   "outputs": [],
   "source": [
    ""
   ]
  }
 ],
 "metadata": {
  "kernelspec": {
   "display_name": "Python 3",
   "language": "python",
   "name": "python3"
  },
  "language_info": {
   "codemirror_mode": {
    "name": "ipython",
    "version": 3.0
   },
   "file_extension": ".py",
   "mimetype": "text/x-python",
   "name": "python",
   "nbconvert_exporter": "python",
   "pygments_lexer": "ipython3",
   "version": "3.5.1"
  }
 },
 "nbformat": 4,
 "nbformat_minor": 0
}