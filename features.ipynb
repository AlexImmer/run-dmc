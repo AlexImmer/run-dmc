{
 "cells": [
  {
   "cell_type": "code",
   "execution_count": 9,
   "metadata": {
    "collapsed": false
   },
   "outputs": [],
   "source": [
    "%matplotlib inline\n",
    "import pandas as pd\n",
    "import dmc\n",
    "data = dmc.data_train()\n",
    "df = dmc.cleansing.cleanse(data)"
   ]
  },
  {
   "cell_type": "markdown",
   "metadata": {},
   "source": [
    "# Additional Features"
   ]
  },
  {
   "cell_type": "markdown",
   "metadata": {},
   "source": [
    "## Customers"
   ]
  },
  {
   "cell_type": "code",
   "execution_count": null,
   "metadata": {},
   "outputs": [],
   "source": [
    "customers = pd.DataFrame(data={\n",
    "    'relativeReturns': df.groupby(['customerID'])['returnQuantity'].sum() /\n",
    "                       df.groupby(['customerID'])['quantity'].sum(),\n",
    "    'quantity': df.groupby(['customerID'])['quantity'].sum(),\n",
    "    'returns': df.groupby(['customerID'])['returnQuantity'].sum()})"
   ]
  },
  {
   "cell_type": "markdown",
   "metadata": {},
   "source": [
    ""
   ]
  },
  {
   "cell_type": "code",
   "execution_count": 38,
   "metadata": {
    "collapsed": false
   },
   "outputs": [
    {
     "data": {
      "text/plain": [
       "<matplotlib.axes._subplots.AxesSubplot at 0x126adfba8>"
      ]
     },
     "execution_count": 38,
     "metadata": {},
     "output_type": "execute_result"
    },
    {
     "data": {
      "image/png": "[encoded data removed]",
      "text/plain": [
       "<matplotlib.figure.Figure at 0x10f6464e0>"
      ]
     },
     "metadata": {},
     "output_type": "display_data"
    }
   ],
   "source": [
    "customers = pd.DataFrame(data={\n",
    "    'relativeReturns': df.groupby(['customerID'])['returnQuantity'].sum() /\n",
    "                       df.groupby(['customerID'])['quantity'].sum(),\n",
    "    'quantity': df.groupby(['customerID'])['quantity'].sum(),\n",
    "    'returns': df.groupby(['customerID'])['returnQuantity'].sum()})\n",
    "crp_distribution = customers.relativeReturns.cumsum() / customers.relativeReturns.sum()\n",
    "crp_distribution.sort_values().plot()\n",
    "# crp_distribution.plot('hist', bins=[i / 1000 for i in range(1000)])\n",
    "# crp_distribution"
   ]
  },
  {
   "cell_type": "code",
   "execution_count": null,
   "metadata": {
    "collapsed": true
   },
   "outputs": [],
   "source": [
    ""
   ]
  }
 ],
 "metadata": {
  "kernelspec": {
   "display_name": "Python 3",
   "language": "python",
   "name": "python3"
  },
  "language_info": {
   "codemirror_mode": {
    "name": "ipython",
    "version": 3.0
   },
   "file_extension": ".py",
   "mimetype": "text/x-python",
   "name": "python",
   "nbconvert_exporter": "python",
   "pygments_lexer": "ipython3",
   "version": "3.5.0"
  }
 },
 "nbformat": 4,
 "nbformat_minor": 0
}