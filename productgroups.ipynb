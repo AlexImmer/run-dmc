{
 "cells": [
  {
   "cell_type": "code",
   "execution_count": 2,
   "metadata": {
    "collapsed": true
   },
   "outputs": [],
   "source": [
    "import process\n",
    "df = process.processed_data()"
   ]
  },
  {
   "cell_type": "code",
   "execution_count": 50,
   "metadata": {},
   "outputs": [
    {
     "data": {
      "text/plain": [
       "['orderID',\n 'orderDate',\n 'articleID',\n 'colorCode',\n 'sizeCode',\n 'productGroup',\n 'quantity',\n 'price',\n 'rrp',\n 'voucherID',\n 'voucherAmount',\n 'customerID',\n 'deviceID',\n 'paymentMethod',\n 'returnQuantity',\n 'productPrice',\n 'totalSavings',\n 'relativeSavings',\n 'orderYear',\n 'orderMonth',\n 'orderDay',\n 'orderWeekDay',\n 'orderDayOfYear',\n 'orderWeek',\n 'orderWeekOfYear',\n 'orderQuarter',\n 'orderSeason',\n 'colorReturnProb',\n 'sizeReturnProb',\n 'customerReturnProb',\n 'productGroupReturnProb',\n 'surplusArticleQuantity',\n 'surplusArticleSizeQuantity',\n 'surplusArticleColorQuantity',\n 'totalOrderShare',\n 'voucherSavings']"
      ]
     },
     "execution_count": 50,
     "metadata": {},
     "output_type": "execute_result"
    }
   ],
   "source": [
    "list(df)"
   ]
  },
  {
   "cell_type": "code",
   "execution_count": 7,
   "metadata": {
    "collapsed": true
   },
   "outputs": [
    {
     "name": "stdout",
     "output_type": "stream",
     "text": [
      "         productGroup  returnQuantity paymentMethod\n0                   3               0          BPRG\n1                   3               0          BPRG\n2                   8               0          BPRG\n3                   8               1          BPRG\n4                   8               0      PAYPALVC\n5                   8               0      PAYPALVC\n6                   8               0      PAYPALVC\n7                   8               0      PAYPALVC\n9                  14               1          BPRG\n10                  3               1          BPRG\n11                  3               1          BPRG\n12                  3               1          BPRG\n14                  8               0          BPRG\n15                  1               0          BPRG\n16                  1               1          BPRG\n17                  2               1          BPRG\n18                  7               1          BPRG\n19                  8               0          BPRG\n20                  8               0          BPRG\n21                 13               0          BPRG\n22                 13               0          BPRG\n23                 13               1          BPRG\n24                 13               0          BPRG\n25                  6               1          BPRG\n26                  6               1          BPRG\n27                  6               1          BPRG\n28                  9               1          BPRG\n29                 13               1          BPRG\n30                 17               1          BPRG\n31                  3               0          BPRG\n...               ...             ...           ...\n2325134             5               1          BPRG\n2325135            17               1          BPRG\n2325136             3               0          BPRG\n2325137             3               1          BPRG\n2325138             5               1          BPRG\n2325139             7               1          BPRG\n2325140             8               0          BPRG\n2325141             8               1          BPRG\n2325142             3               0          BPRG\n2325143             3               1          BPRG\n2325144             2               1          BPRG\n2325145             2               1          BPRG\n2325146             3               0      PAYPALVC\n2325147             3               0      PAYPALVC\n2325148             3               0      PAYPALVC\n2325149             3               1      PAYPALVC\n2325150             3               0      PAYPALVC\n2325151             3               0      PAYPALVC\n2325152             7               0          BPRG\n2325154             3               1          BPRG\n2325155             8               0          BPRG\n2325156             1               1          BPRG\n2325157             1               0          BPRG\n2325158             6               1           CBA\n2325159             3               1           CBA\n2325160             3               1           CBA\n2325161             3               0           CBA\n2325162             8               0           CBA\n2325163             8               0           CBA\n2325164             8               0           CBA\n\n[2293168 rows x 3 columns]\n"
     ]
    }
   ],
   "source": [
    "from pandas import get_dummies\n",
    "productgroups = df.loc[:, \n",
    "                ['productGroup', 'returnQuantity', 'paymentMethod']]\n",
    "productgroups = productgroups.join(\n",
    "    get_dummies(productgroups['paymentMethod']))\n",
    "productgroups = productgroups.drop('paymentMethod', 1)\n"
   ]
  },
  {
   "cell_type": "code",
   "execution_count": 39,
   "metadata": {},
   "outputs": [],
   "source": [
    "from sklearn.neighbors import NearestNeighbors\n",
    "clusterSet = productgroups[1:100]\n",
    "nbrs = NearestNeighbors(n_neighbors=5, algorithm='ball_tree')\\\n",
    "    .fit(clusterSet)\n",
    "distances, indices = nbrs.kneighbors(clusterSet)"
   ]
  },
  {
   "cell_type": "code",
   "execution_count": 41,
   "metadata": {},
   "outputs": [],
   "source": [
    "from sklearn.cluster import KMeans\n",
    "plusK = KMeans(init='k-means++', n_clusters=10, n_init=10)\n",
    "randomK = KMeans(init='random', n_clusters=10, n_init=10)"
   ]
  },
  {
   "cell_type": "code",
   "execution_count": 48,
   "metadata": {},
   "outputs": [
    {
     "data": {
      "text/plain": [
       "KMeans(copy_x=True, init='random', max_iter=300, n_clusters=10, n_init=10,\n    n_jobs=1, precompute_distances='auto', random_state=None, tol=0.0001,\n    verbose=0)"
      ]
     },
     "execution_count": 48,
     "metadata": {},
     "output_type": "execute_result"
    }
   ],
   "source": [
    "clusterSet = productgroups[1:10000]\n",
    "plusK.fit(clusterSet)\n",
    "randomK.fit(clusterSet)"
   ]
  },
  {
   "cell_type": "code",
   "execution_count": 49,
   "metadata": {},
   "outputs": [
    {
     "name": "stdout",
     "output_type": "stream",
     "text": [
      "0.534917640799\n"
     ]
    },
    {
     "name": "stdout",
     "output_type": "stream",
     "text": [
      "0.593964596209\n"
     ]
    }
   ],
   "source": [
    "from sklearn import metrics\n",
    "print(metrics.silhouette_score(clusterSet, randomK.labels_,\n",
    "                                      metric='euclidean'))\n",
    "print(metrics.silhouette_score(clusterSet, plusK.labels_,\n",
    "                                      metric='euclidean'))"
   ]
  },
  {
   "cell_type": "code",
   "execution_count": null,
   "metadata": {},
   "outputs": [],
   "source": [
    ""
   ]
  }
 ],
 "metadata": {
  "kernelspec": {
   "display_name": "Python 3",
   "language": "python",
   "name": "python3"
  },
  "language_info": {
   "codemirror_mode": {
    "name": "ipython",
    "version": 3.0
   },
   "file_extension": ".py",
   "mimetype": "text/x-python",
   "name": "python",
   "nbconvert_exporter": "python",
   "pygments_lexer": "ipython3",
   "version": "3.5.1"
  }
 },
 "nbformat": 4,
 "nbformat_minor": 0
}