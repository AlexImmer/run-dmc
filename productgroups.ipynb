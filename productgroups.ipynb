{
 "cells": [
  {
   "cell_type": "code",
   "execution_count": 2,
   "metadata": {
    "collapsed": true
   },
   "outputs": [],
   "source": [
    "import process\n",
    "df = process.processed_data()"
   ]
  },
  {
   "cell_type": "code",
   "execution_count": 76,
   "metadata": {},
   "outputs": [
    {
     "data": {
      "text/plain": [
       "['orderID',\n 'orderDate',\n 'articleID',\n 'colorCode',\n 'sizeCode',\n 'productGroup',\n 'quantity',\n 'price',\n 'rrp',\n 'voucherID',\n 'voucherAmount',\n 'customerID',\n 'deviceID',\n 'paymentMethod',\n 'returnQuantity',\n 'productPrice',\n 'totalSavings',\n 'relativeSavings',\n 'orderYear',\n 'orderMonth',\n 'orderDay',\n 'orderWeekDay',\n 'orderDayOfYear',\n 'orderWeek',\n 'orderWeekOfYear',\n 'orderQuarter',\n 'orderSeason',\n 'colorReturnProb',\n 'sizeReturnProb',\n 'customerReturnProb',\n 'productGroupReturnProb',\n 'surplusArticleQuantity',\n 'surplusArticleSizeQuantity',\n 'surplusArticleColorQuantity',\n 'totalOrderShare',\n 'voucherSavings']"
      ]
     },
     "execution_count": 76,
     "metadata": {},
     "output_type": "execute_result"
    }
   ],
   "source": [
    "list(df)"
   ]
  },
  {
   "cell_type": "code",
   "execution_count": 74,
   "metadata": {
    "collapsed": true
   },
   "outputs": [],
   "source": [
    "from pandas import get_dummies\n",
    "productgroups = df.loc[:, \n",
    "                ['productGroup', 'returnQuantity',\n",
    "                 'paymentMethod', 'deviceID']]\n",
    "productgroups = productgroups.join(\n",
    "    get_dummies(productgroups['productGroup']))\n",
    "productgroups = productgroups.drop('productGroup', 1)\n",
    "\n",
    "productgroups = productgroups.join(\n",
    "    get_dummies(productgroups['paymentMethod']))\n",
    "productgroups = productgroups.drop('paymentMethod', 1)"
   ]
  },
  {
   "cell_type": "code",
   "execution_count": 86,
   "metadata": {},
   "outputs": [],
   "source": [
    "from sklearn.cluster import KMeans\n",
    "plusK = KMeans(init='k-means++', n_clusters=11, n_init=100)\n",
    "randomK = KMeans(init='random', n_clusters=11, n_init=100)"
   ]
  },
  {
   "cell_type": "code",
   "execution_count": 87,
   "metadata": {},
   "outputs": [
    {
     "data": {
      "text/plain": [
       "KMeans(copy_x=True, init='random', max_iter=300, n_clusters=11, n_init=100,\n    n_jobs=1, precompute_distances='auto', random_state=None, tol=0.0001,\n    verbose=0)"
      ]
     },
     "execution_count": 87,
     "metadata": {},
     "output_type": "execute_result"
    }
   ],
   "source": [
    "clusterSet = productgroups[1:10000]\n",
    "removedReturnQ = clusterSet.drop('returnQuantity', 1)\n",
    "plusK.fit(removedReturnQ)\n",
    "randomK.fit(removedReturnQ)"
   ]
  },
  {
   "cell_type": "code",
   "execution_count": 88,
   "metadata": {},
   "outputs": [
    {
     "name": "stderr",
     "output_type": "stream",
     "text": [
      "/Users/Fabian/Documents/HPI/Semester_6/Big_Data_Analytics_Lab/run-dmc/env/lib/python3.5/site-packages/ipykernel/__main__.py:1: SettingWithCopyWarning: \nA value is trying to be set on a copy of a slice from a DataFrame.\nTry using .loc[row_indexer,col_indexer] = value instead\n\nSee the caveats in the documentation: http://pandas.pydata.org/pandas-docs/stable/indexing.html#indexing-view-versus-copy\n  if __name__ == '__main__':\n/Users/Fabian/Documents/HPI/Semester_6/Big_Data_Analytics_Lab/run-dmc/env/lib/python3.5/site-packages/ipykernel/__main__.py:2: SettingWithCopyWarning: \nA value is trying to be set on a copy of a slice from a DataFrame.\nTry using .loc[row_indexer,col_indexer] = value instead\n\nSee the caveats in the documentation: http://pandas.pydata.org/pandas-docs/stable/indexing.html#indexing-view-versus-copy\n  from ipykernel import kernelapp as app\n"
     ]
    }
   ],
   "source": [
    "clusterSet['clusterRandom'] = randomK.labels_\n",
    "clusterSet['clusterPlus'] = plusK.labels_"
   ]
  },
  {
   "cell_type": "code",
   "execution_count": 89,
   "metadata": {},
   "outputs": [
    {
     "name": "stdout",
     "output_type": "stream",
     "text": [
      "clusterPlus\n0     0.516797\n1     0.505591\n2     0.503743\n3     0.507734\n4     0.475597\n5     0.473608\n6     0.471746\n7     0.497143\n8     0.565981\n9     0.491320\n10    0.475443\nName: returnQuantity, dtype: float64\nclusterRandom\n0     0.511032\n1     0.489670\n2     0.495064\n3     0.505411\n4     0.473608\n5     0.468376\n6     0.475597\n7     0.592056\n8     0.516797\n9     0.497561\n10    0.499443\nName: returnQuantity, dtype: float64\n"
     ]
    }
   ],
   "source": [
    "print(clusterSet['returnQuantity']\\\n",
    "    .groupby(clusterSet['clusterPlus']).std())\n",
    "print(clusterSet['returnQuantity']\\\n",
    "    .groupby(clusterSet['clusterRandom']).std())"
   ]
  },
  {
   "cell_type": "code",
   "execution_count": 84,
   "metadata": {},
   "outputs": [
    {
     "data": {
      "text/plain": [
       "['returnQuantity',\n 'deviceID',\n 1,\n 2,\n 3,\n 4,\n 5,\n 6,\n 7,\n 8,\n 9,\n 13,\n 14,\n 15,\n 17,\n 26,\n 43,\n 45,\n 50,\n 90,\n 'BPLS',\n 'BPPL',\n 'BPRG',\n 'CBA',\n 'KGRG',\n 'KKE',\n 'NN',\n 'PAYPALVC',\n 'RG',\n 'VORAUS']"
      ]
     },
     "execution_count": 84,
     "metadata": {},
     "output_type": "execute_result"
    }
   ],
   "source": [
    "list(productgroups)"
   ]
  },
  {
   "cell_type": "code",
   "execution_count": null,
   "metadata": {},
   "outputs": [],
   "source": [
    ""
   ]
  },
  {
   "cell_type": "code",
   "execution_count": null,
   "metadata": {},
   "outputs": [],
   "source": [
    ""
   ]
  }
 ],
 "metadata": {
  "kernelspec": {
   "display_name": "Python 3",
   "language": "python",
   "name": "python3"
  },
  "language_info": {
   "codemirror_mode": {
    "name": "ipython",
    "version": 3.0
   },
   "file_extension": ".py",
   "mimetype": "text/x-python",
   "name": "python",
   "nbconvert_exporter": "python",
   "pygments_lexer": "ipython3",
   "version": "3.5.1"
  }
 },
 "nbformat": 4,
 "nbformat_minor": 0
}