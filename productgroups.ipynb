{
 "cells": [
  {
   "cell_type": "code",
   "execution_count": 2,
   "metadata": {
    "collapsed": true
   },
   "outputs": [],
   "source": [
    "import process\n",
    "df = process.processed_data()"
   ]
  },
  {
   "cell_type": "code",
   "execution_count": 76,
   "metadata": {},
   "outputs": [
    {
     "data": {
      "text/plain": [
       "['orderID',\n 'orderDate',\n 'articleID',\n 'colorCode',\n 'sizeCode',\n 'productGroup',\n 'quantity',\n 'price',\n 'rrp',\n 'voucherID',\n 'voucherAmount',\n 'customerID',\n 'deviceID',\n 'paymentMethod',\n 'returnQuantity',\n 'productPrice',\n 'totalSavings',\n 'relativeSavings',\n 'orderYear',\n 'orderMonth',\n 'orderDay',\n 'orderWeekDay',\n 'orderDayOfYear',\n 'orderWeek',\n 'orderWeekOfYear',\n 'orderQuarter',\n 'orderSeason',\n 'colorReturnProb',\n 'sizeReturnProb',\n 'customerReturnProb',\n 'productGroupReturnProb',\n 'surplusArticleQuantity',\n 'surplusArticleSizeQuantity',\n 'surplusArticleColorQuantity',\n 'totalOrderShare',\n 'voucherSavings']"
      ]
     },
     "execution_count": 76,
     "metadata": {},
     "output_type": "execute_result"
    }
   ],
   "source": [
    "list(df)"
   ]
  },
  {
   "cell_type": "code",
   "execution_count": 90,
   "metadata": {
    "collapsed": true
   },
   "outputs": [],
   "source": [
    "from pandas import get_dummies\n",
    "productgroups = df.loc[:, \n",
    "                ['productGroup', 'returnQuantity',\n",
    "                 'paymentMethod', 'deviceID']]\n",
    "productgroups = productgroups.join(\n",
    "    get_dummies(productgroups['productGroup']))\n",
    "productgroups = productgroups.drop('productGroup', 1)\n",
    "\n",
    "productgroups = productgroups.join(\n",
    "    get_dummies(productgroups['paymentMethod']))\n",
    "productgroups = productgroups.drop('paymentMethod', 1)"
   ]
  },
  {
   "cell_type": "code",
   "execution_count": 91,
   "metadata": {},
   "outputs": [],
   "source": [
    "from sklearn.cluster import KMeans\n",
    "plusK = KMeans(init='k-means++', n_clusters=11, n_init=100)\n",
    "randomK = KMeans(init='random', n_clusters=11, n_init=100)"
   ]
  },
  {
   "cell_type": "code",
   "execution_count": 96,
   "metadata": {},
   "outputs": [
    {
     "data": {
      "text/plain": [
       "KMeans(copy_x=True, init='random', max_iter=300, n_clusters=11, n_init=100,\n    n_jobs=1, precompute_distances='auto', random_state=None, tol=0.0001,\n    verbose=0)"
      ]
     },
     "execution_count": 96,
     "metadata": {},
     "output_type": "execute_result"
    }
   ],
   "source": [
    "clusterSet = productgroups[1:10000]\\\n",
    "    .copy()\n",
    "removedReturnQ = clusterSet.drop('returnQuantity', 1)\n",
    "plusK.fit(removedReturnQ)\n",
    "randomK.fit(removedReturnQ)"
   ]
  },
  {
   "cell_type": "code",
   "execution_count": 97,
   "metadata": {},
   "outputs": [],
   "source": [
    "clusterSet['clusterRandom'] = randomK.labels_\n",
    "clusterSet['clusterPlus'] = plusK.labels_"
   ]
  },
  {
   "cell_type": "code",
   "execution_count": 94,
   "metadata": {},
   "outputs": [
    {
     "name": "stdout",
     "output_type": "stream",
     "text": [
      "clusterPlus\n0     0.491320\n1     0.505591\n2     0.507734\n3     0.477480\n4     0.473608\n5     0.497143\n6     0.470533\n7     0.565981\n8     0.516797\n9     0.503743\n10    0.475597\nName: returnQuantity, dtype: float64\nclusterRandom\n0     0.509648\n1     0.493658\n2     0.474161\n3     0.497143\n4     0.481068\n5     0.504062\n6     0.517004\n7     0.451835\n8     0.503759\n9     0.565981\n10    0.491676\nName: returnQuantity, dtype: float64\n"
     ]
    }
   ],
   "source": [
    "print(clusterSet['returnQuantity']\\\n",
    "    .groupby(clusterSet['clusterPlus']).std())\n",
    "print(clusterSet['returnQuantity']\\\n",
    "    .groupby(clusterSet['clusterRandom']).std())"
   ]
  },
  {
   "cell_type": "code",
   "execution_count": 95,
   "metadata": {},
   "outputs": [
    {
     "data": {
      "text/plain": [
       "['returnQuantity',\n 'deviceID',\n 1,\n 2,\n 3,\n 4,\n 5,\n 6,\n 7,\n 8,\n 9,\n 13,\n 14,\n 15,\n 17,\n 26,\n 43,\n 45,\n 50,\n 90,\n 'BPLS',\n 'BPPL',\n 'BPRG',\n 'CBA',\n 'KGRG',\n 'KKE',\n 'NN',\n 'PAYPALVC',\n 'RG',\n 'VORAUS']"
      ]
     },
     "execution_count": 95,
     "metadata": {},
     "output_type": "execute_result"
    }
   ],
   "source": [
    "list(productgroups)"
   ]
  },
  {
   "cell_type": "code",
   "execution_count": null,
   "metadata": {},
   "outputs": [],
   "source": [
    ""
   ]
  },
  {
   "cell_type": "code",
   "execution_count": null,
   "metadata": {},
   "outputs": [],
   "source": [
    ""
   ]
  }
 ],
 "metadata": {
  "kernelspec": {
   "display_name": "Python 3",
   "language": "python",
   "name": "python3"
  },
  "language_info": {
   "codemirror_mode": {
    "name": "ipython",
    "version": 3.0
   },
   "file_extension": ".py",
   "mimetype": "text/x-python",
   "name": "python",
   "nbconvert_exporter": "python",
   "pygments_lexer": "ipython3",
   "version": "3.5.1"
  }
 },
 "nbformat": 4,
 "nbformat_minor": 0
}