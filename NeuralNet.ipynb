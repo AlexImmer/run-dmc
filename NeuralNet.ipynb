{
 "cells": [
  {
   "cell_type": "code",
   "execution_count": 1,
   "metadata": {
    "collapsed": false
   },
   "outputs": [],
   "source": [
    "%load_ext autoreload\n",
    "%autoreload 2"
   ]
  },
  {
   "cell_type": "code",
   "execution_count": 2,
   "metadata": {
    "collapsed": false
   },
   "outputs": [
    {
     "name": "stdout",
     "output_type": "stream",
     "text": [
      "Tensorflow not installed\n"
     ]
    }
   ],
   "source": [
    "import pandas as pd\n",
    "import numpy as np\n",
    "import dmc\n",
    "from process import processed_data"
   ]
  },
  {
   "cell_type": "code",
   "execution_count": 3,
   "metadata": {
    "collapsed": false
   },
   "outputs": [],
   "source": [
    "data = processed_data()\n",
    "train_ids, test_ids = dmc.loading.load_ids('rawMirrored')\n",
    "train, test = dmc.preprocessing.split_train_test(data, train_ids, test_ids)"
   ]
  },
  {
   "cell_type": "markdown",
   "metadata": {},
   "source": [
    "## Neural Network evaluation using classic ensemble splits"
   ]
  },
  {
   "cell_type": "code",
   "execution_count": 4,
   "metadata": {
    "collapsed": false
   },
   "outputs": [],
   "source": [
    "# allocate memory\n",
    "data = train_ids = test_ids = None\n",
    "####\n",
    "ensemble = dmc.ensemble.Ensemble(train, test)"
   ]
  },
  {
   "cell_type": "code",
   "execution_count": 5,
   "metadata": {
    "collapsed": false
   },
   "outputs": [
    {
     "name": "stdout",
     "output_type": "stream",
     "text": [
      "2082 unknown_articleID-unknown_customerID-unknown_voucherID-known_productGroup\n",
      "14 unknown_articleID-unknown_customerID-known_voucherID-unknown_productGroup\n",
      "22160 unknown_articleID-unknown_customerID-known_voucherID-known_productGroup\n",
      "3239 unknown_articleID-known_customerID-unknown_voucherID-known_productGroup\n",
      "12 unknown_articleID-known_customerID-known_voucherID-unknown_productGroup\n",
      "62265 unknown_articleID-known_customerID-known_voucherID-known_productGroup\n",
      "4189 known_articleID-unknown_customerID-unknown_voucherID-known_productGroup\n",
      "42844 known_articleID-unknown_customerID-known_voucherID-known_productGroup\n",
      "6496 known_articleID-known_customerID-unknown_voucherID-known_productGroup\n",
      "93197 known_articleID-known_customerID-known_voucherID-known_productGroup\n"
     ]
    }
   ],
   "source": [
    "for split in ensemble.splits:\n",
    "    print(len(ensemble.splits[split][1]), split)"
   ]
  },
  {
   "cell_type": "markdown",
   "metadata": {},
   "source": [
    "Print splits and names to know where to not drop customer for naive bayes."
   ]
  },
  {
   "cell_type": "markdown",
   "metadata": {},
   "source": [
    "### Baseline\n",
    "```\n",
    "known_articleID-unknown_customerID-unknown_voucherID-known_productGroup : size  4189  prec  0.659823346860826\n",
    "--------------------------------------\n",
    "known_articleID-known_customerID-known_voucherID-known_productGroup : size  93197  prec  0.6745603399251049\n",
    "--------------------------------------\n",
    "unknown_articleID-known_customerID-known_voucherID-known_productGroup : size  62265  prec  0.6728338552959126\n",
    "--------------------------------------\n",
    "unknown_articleID-unknown_customerID-known_voucherID-unknown_productGroup : size  14  prec  0.8571428571428572\n",
    "--------------------------------------\n",
    "known_articleID-known_customerID-unknown_voucherID-known_productGroup : size  6496  prec  0.6657943349753694\n",
    "--------------------------------------\n",
    "unknown_articleID-unknown_customerID-known_voucherID-known_productGroup : size  22160  prec  0.6546931407942238\n",
    "--------------------------------------\n",
    "unknown_articleID-unknown_customerID-unknown_voucherID-known_productGroup : size  2082  prec  0.6652257444764649\n",
    "--------------------------------------\n",
    "unknown_articleID-known_customerID-known_voucherID-unknown_productGroup : size  12  prec  0.6666666666666667\n",
    "--------------------------------------\n",
    "known_articleID-unknown_customerID-known_voucherID-known_productGroup : size  42844  prec  0.6607459620950424\n",
    "--------------------------------------\n",
    "unknown_articleID-known_customerID-unknown_voucherID-known_productGroup : size  3239  prec  0.6687249150972523\n",
    "--------------------------------------\n",
    "Overall : 0.6690881106816972 78260\n",
    "```\n"
   ]
  },
  {
   "cell_type": "markdown",
   "metadata": {},
   "source": [
    "### SVM with 50k sample\n",
    "```\n",
    "\n",
    "unknown_articleID-unknown_customerID-unknown_voucherID-known_productGroup 0.6714697406340058 2082\n",
    "unknown_articleID-unknown_customerID-known_voucherID-unknown_productGroup 0.8571428571428572 14\n",
    "unknown_articleID-unknown_customerID-known_voucherID-known_productGroup 0.6607851985559567 22160\n",
    "unknown_articleID-known_customerID-unknown_voucherID-known_productGroup 0.6644025933930225 3239\n",
    "unknown_articleID-known_customerID-known_voucherID-unknown_productGroup 0.6666666666666667 12\n",
    "unknown_articleID-known_customerID-known_voucherID-known_productGroup 0.6448727214325864 62265\n",
    "known_articleID-unknown_customerID-unknown_voucherID-known_productGroup 0.6719980902363333 4189\n",
    "known_articleID-unknown_customerID-known_voucherID-known_productGroup 0.6569881430305293 42844\n",
    "known_articleID-known_customerID-unknown_voucherID-known_productGroup 0.6366995073891626 6496\n",
    "known_articleID-known_customerID-known_voucherID-known_productGroup 0.6434649183986609 93197\n",
    "```"
   ]
  },
  {
   "cell_type": "code",
   "execution_count": 6,
   "metadata": {
    "collapsed": true
   },
   "outputs": [],
   "source": [
    "def shuffle(df: pd.DataFrame) -> pd.DataFrame:\n",
    "    return df.reindex(np.random.permutation(df.index))"
   ]
  },
  {
   "cell_type": "code",
   "execution_count": 7,
   "metadata": {
    "collapsed": false,
    "scrolled": true
   },
   "outputs": [
    {
     "name": "stdout",
     "output_type": "stream",
     "text": [
      "Tensorflow not installed\n"
     ]
    }
   ],
   "source": [
    "for split in ensemble.splits:\n",
    "    ensemble.splits[split] = (shuffle(ensemble.splits[split][0])[:200000], ensemble.splits[split][1])"
   ]
  },
  {
   "cell_type": "code",
   "execution_count": 6,
   "metadata": {
    "collapsed": false
   },
   "outputs": [
    {
     "data": {
      "text/plain": [
       "236498"
      ]
     },
     "execution_count": 6,
     "metadata": {},
     "output_type": "execute_result"
    }
   ],
   "source": [
    "len(ensemble.test)"
   ]
  },
  {
   "cell_type": "code",
   "execution_count": 8,
   "metadata": {
    "collapsed": false
   },
   "outputs": [
    {
     "name": "stderr",
     "output_type": "stream",
     "text": [
      "/usr/local/lib/python3.5/site-packages/scipy/sparse/compressed.py:739: SparseEfficiencyWarning: Changing the sparsity structure of a csr_matrix is expensive. lil_matrix is more efficient.\n",
      "  SparseEfficiencyWarning)\n"
     ]
    }
   ],
   "source": [
    "splits = len(ensemble.splits)\n",
    "scalers = [dmc.transformation.scale_raw_features] * splits\n",
    "ignore = [None] * splits\n",
    "ensemble.transform(scalers=scalers, ignore_features=ignore)"
   ]
  },
  {
   "cell_type": "code",
   "execution_count": 9,
   "metadata": {
    "collapsed": false,
    "scrolled": true
   },
   "outputs": [
    {
     "name": "stdout",
     "output_type": "stream",
     "text": [
      "Tensorflow not installed\n",
      "unknown_articleID-unknown_customerID-known_voucherID-known_productGroup 0.6569043321299639 22160 <dmc.classifiers.TheanoNeuralNetwork object at 0x110f95198>\n",
      "unknown_articleID-known_customerID-unknown_voucherID-known_productGroup 0.661623958011732 3239 <dmc.classifiers.TheanoNeuralNetwork object at 0x110f95198>\n",
      "unknown_articleID-known_customerID-known_voucherID-known_productGroup 0.6446157552397013 62265 <dmc.classifiers.TheanoNeuralNetwork object at 0x1126f1b70>\n",
      "known_articleID-unknown_customerID-unknown_voucherID-known_productGroup 0.6796371449033183 4189 <dmc.classifiers.TheanoNeuralNetwork object at 0x10e714860>\n",
      "known_articleID-unknown_customerID-known_voucherID-known_productGroup 0.665740827187004 42844 <dmc.classifiers.TheanoNeuralNetwork object at 0x103962ef0>\n",
      "known_articleID-known_customerID-unknown_voucherID-known_productGroup 0.6425492610837438 6496 <dmc.classifiers.TheanoNeuralNetwork object at 0x114a27940>\n",
      "known_articleID-known_customerID-known_voucherID-known_productGroup 0.6526497634044015 93197 <dmc.classifiers.TheanoNeuralNetwork object at 0x1113026d8>\n"
     ]
    }
   ],
   "source": [
    "res = []\n",
    "for k in ensemble.splits:\n",
    "    if len(ensemble.splits[k]['test'][1]) < 3000:\n",
    "        continue\n",
    "    Xt, yt = ensemble.splits[k]['train'][0], ensemble.splits[k]['train'][1]\n",
    "    Xe, ye = ensemble.splits[k]['test'][0], ensemble.splits[k]['test'][1]\n",
    "    fts, clf = ensemble.splits[k]['features'], dmc.classifiers.TheanoNeuralNetwork\n",
    "    clf = clf(Xt, yt)\n",
    "    prec = dmc.evaluation.precision(ye, clf(Xe))\n",
    "    res.append((k, prec, len(ye)))\n",
    "    print(k, prec, len(ye), clf)"
   ]
  },
  {
   "cell_type": "code",
   "execution_count": 11,
   "metadata": {
    "collapsed": false,
    "scrolled": false
   },
   "outputs": [
    {
     "name": "stdout",
     "output_type": "stream",
     "text": [
      "Tensorflow not installed\n",
      "unknown_articleID-unknown_customerID-known_voucherID-known_productGroup 0.6670126353790613 22160 <dmc.classifiers.Forest object at 0x113c02630>\n",
      "unknown_articleID-known_customerID-unknown_voucherID-known_productGroup 0.6650200679221983 3239 <dmc.classifiers.Forest object at 0x1038cab70>\n",
      "unknown_articleID-known_customerID-known_voucherID-known_productGroup 0.645193929173693 62265 <dmc.classifiers.Forest object at 0x111f36ba8>\n",
      "known_articleID-unknown_customerID-unknown_voucherID-known_productGroup 0.6691334447362138 4189 <dmc.classifiers.Forest object at 0x17b4e2c88>\n",
      "known_articleID-unknown_customerID-known_voucherID-known_productGroup 0.662286434506582 42844 <dmc.classifiers.Forest object at 0x1038cadd8>\n",
      "known_articleID-known_customerID-unknown_voucherID-known_productGroup 0.6427032019704433 6496 <dmc.classifiers.Forest object at 0x10e76bac8>\n",
      "known_articleID-known_customerID-known_voucherID-known_productGroup 0.6462332478513257 93197 <dmc.classifiers.Forest object at 0x113c02ac8>\n"
     ]
    }
   ],
   "source": [
    "resF = []\n",
    "for k in ensemble.splits:\n",
    "    if len(ensemble.splits[k]['test'][1]) < 3000:\n",
    "        continue\n",
    "    Xt, yt = ensemble.splits[k]['train'][0], ensemble.splits[k]['train'][1]\n",
    "    Xe, ye = ensemble.splits[k]['test'][0], ensemble.splits[k]['test'][1]\n",
    "    fts, clf = ensemble.splits[k]['features'], dmc.classifiers.Forest\n",
    "    clf = clf(Xt, yt)\n",
    "    prec = dmc.evaluation.precision(ye, clf(Xe))\n",
    "    resF.append((k, prec, len(ye)))\n",
    "    print(k, prec, len(ye), clf)"
   ]
  },
  {
   "cell_type": "code",
   "execution_count": 12,
   "metadata": {
    "collapsed": false
   },
   "outputs": [
    {
     "name": "stdout",
     "output_type": "stream",
     "text": [
      "unknown_articleID-unknown_customerID-unknown_voucherID-known_productGroup 0.6056676272814601 2082 <dmc.classifiers.NaiveBayes object at 0x1038cabe0>\n",
      "unknown_articleID-unknown_customerID-known_voucherID-unknown_productGroup 0.8571428571428572 14 <dmc.classifiers.NaiveBayes object at 0x1038cabe0>\n",
      "unknown_articleID-unknown_customerID-known_voucherID-known_productGroup 0.6037003610108302 22160 <dmc.classifiers.NaiveBayes object at 0x1038cabe0>\n",
      "unknown_articleID-known_customerID-unknown_voucherID-known_productGroup 0.5949367088607596 3239 <dmc.classifiers.NaiveBayes object at 0x1038cabe0>\n",
      "unknown_articleID-known_customerID-known_voucherID-unknown_productGroup 0.6666666666666667 12 <dmc.classifiers.NaiveBayes object at 0x1038cabe0>\n",
      "unknown_articleID-known_customerID-known_voucherID-known_productGroup 0.5875371396450655 62265 <dmc.classifiers.NaiveBayes object at 0x1038cabe0>\n",
      "known_articleID-unknown_customerID-unknown_voucherID-known_productGroup 0.6144664597756028 4189 <dmc.classifiers.NaiveBayes object at 0x1038cabe0>\n",
      "known_articleID-unknown_customerID-known_voucherID-known_productGroup 0.6124311455513024 42844 <dmc.classifiers.NaiveBayes object at 0x1038cabe0>\n",
      "known_articleID-known_customerID-unknown_voucherID-known_productGroup 0.5991379310344828 6496 <dmc.classifiers.NaiveBayes object at 0x1038cabe0>\n",
      "known_articleID-known_customerID-known_voucherID-known_productGroup 0.5923259332381944 93197 <dmc.classifiers.NaiveBayes object at 0x1038cabe0>\n"
     ]
    }
   ],
   "source": [
    "for k in ensemble.splits:\n",
    "    Xt, yt = ensemble.splits[k]['train'][0], ensemble.splits[k]['train'][1]\n",
    "    Xe, ye = ensemble.splits[k]['test'][0], ensemble.splits[k]['test'][1]\n",
    "    fts, clf = ensemble.splits[k]['features'], dmc.classifiers.NaiveBayes\n",
    "    clf = clf(Xt, yt)\n",
    "    prec = dmc.evaluation.precision(ye, clf(Xe))\n",
    "    print(k, prec, len(ye), clf)"
   ]
  },
  {
   "cell_type": "code",
   "execution_count": null,
   "metadata": {
    "collapsed": true
   },
   "outputs": [],
   "source": [
    "Forest, Network, Bayes, SVM = dmc.classifiers.Forest, dmc.classifiers.TheanoNeuralNetwork, dmc.classifiers.Bayes, dmc.classifiers.SVM\n",
    "raw_scaler, no_scaler = dmc.transformation.scale_raw_features, None\n",
    "no_sample = None\n",
    "params = {\n",
    "    'uuuu': \n",
    "}"
   ]
  }
 ],
 "metadata": {
  "kernelspec": {
   "display_name": "Python 3",
   "language": "python",
   "name": "python3"
  },
  "language_info": {
   "codemirror_mode": {
    "name": "ipython",
    "version": 3
   },
   "file_extension": ".py",
   "mimetype": "text/x-python",
   "name": "python",
   "nbconvert_exporter": "python",
   "pygments_lexer": "ipython3",
   "version": "3.5.1"
  }
 },
 "nbformat": 4,
 "nbformat_minor": 0
}
