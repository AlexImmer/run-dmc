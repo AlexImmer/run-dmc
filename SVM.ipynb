{
 "cells": [
  {
   "cell_type": "code",
   "execution_count": 1,
   "metadata": {
    "collapsed": false
   },
   "outputs": [],
   "source": [
    "%load_ext autoreload\n",
    "%autoreload 2"
   ]
  },
  {
   "cell_type": "code",
   "execution_count": 2,
   "metadata": {
    "collapsed": false
   },
   "outputs": [
    {
     "name": "stdout",
     "output_type": "stream",
     "text": [
      "Tensorflow not installed\n"
     ]
    }
   ],
   "source": [
    "import pandas as pd\n",
    "import numpy as np\n",
    "import dmc\n",
    "from process import processed_data"
   ]
  },
  {
   "cell_type": "code",
   "execution_count": 3,
   "metadata": {
    "collapsed": false
   },
   "outputs": [],
   "source": [
    "data = processed_data()\n",
    "train_ids, test_ids = dmc.loading.load_ids('rawMirrored')\n",
    "train, test = dmc.preprocessing.split_train_test(data, train_ids, test_ids)"
   ]
  },
  {
   "cell_type": "markdown",
   "metadata": {},
   "source": [
    "## SVM evaluation using classic ensemble splits"
   ]
  },
  {
   "cell_type": "code",
   "execution_count": 4,
   "metadata": {
    "collapsed": false
   },
   "outputs": [],
   "source": [
    "# allocate memory\n",
    "data = train_ids = test_ids = None\n",
    "####\n",
    "ensemble = dmc.ensemble.Ensemble(train, test)"
   ]
  },
  {
   "cell_type": "code",
   "execution_count": 5,
   "metadata": {
    "collapsed": false
   },
   "outputs": [
    {
     "name": "stdout",
     "output_type": "stream",
     "text": [
      "2082 unknown_articleID-unknown_customerID-unknown_voucherID-known_productGroup\n",
      "14 unknown_articleID-unknown_customerID-known_voucherID-unknown_productGroup\n",
      "22160 unknown_articleID-unknown_customerID-known_voucherID-known_productGroup\n",
      "3239 unknown_articleID-known_customerID-unknown_voucherID-known_productGroup\n",
      "12 unknown_articleID-known_customerID-known_voucherID-unknown_productGroup\n",
      "62265 unknown_articleID-known_customerID-known_voucherID-known_productGroup\n",
      "4189 known_articleID-unknown_customerID-unknown_voucherID-known_productGroup\n",
      "42844 known_articleID-unknown_customerID-known_voucherID-known_productGroup\n",
      "6496 known_articleID-known_customerID-unknown_voucherID-known_productGroup\n",
      "93197 known_articleID-known_customerID-known_voucherID-known_productGroup\n"
     ]
    }
   ],
   "source": [
    "for split in ensemble.splits:\n",
    "    print(len(ensemble.splits[split][1]), split)"
   ]
  },
  {
   "cell_type": "markdown",
   "metadata": {},
   "source": [
    "Print splits and names to know where to not drop customer for naive bayes."
   ]
  },
  {
   "cell_type": "code",
   "execution_count": 6,
   "metadata": {
    "collapsed": true
   },
   "outputs": [],
   "source": [
    "def shuffle(df: pd.DataFrame) -> pd.DataFrame:\n",
    "    return df.reindex(np.random.permutation(df.index))"
   ]
  },
  {
   "cell_type": "code",
   "execution_count": 7,
   "metadata": {
    "collapsed": false
   },
   "outputs": [],
   "source": [
    "for split in ensemble.splits:\n",
    "    ensemble.splits[split] = (shuffle(ensemble.splits[split][0])[:50000], ensemble.splits[split][1])"
   ]
  },
  {
   "cell_type": "code",
   "execution_count": 8,
   "metadata": {
    "collapsed": false
   },
   "outputs": [
    {
     "name": "stderr",
     "output_type": "stream",
     "text": [
      "/home/alex/anaconda3/lib/python3.5/site-packages/scipy/sparse/compressed.py:739: SparseEfficiencyWarning: Changing the sparsity structure of a csr_matrix is expensive. lil_matrix is more efficient.\n",
      "  SparseEfficiencyWarning)\n"
     ]
    }
   ],
   "source": [
    "splits = len(ensemble.splits)\n",
    "scalers = [dmc.transformation.scale_raw_features] * splits\n",
    "ignore = [None] * splits\n",
    "ensemble.transform(scalers=scalers, ignore_features=ignore)"
   ]
  },
  {
   "cell_type": "code",
   "execution_count": 9,
   "metadata": {
    "collapsed": false,
    "scrolled": true
   },
   "outputs": [
    {
     "name": "stdout",
     "output_type": "stream",
     "text": [
      "unknown_articleID-unknown_customerID-unknown_voucherID-known_productGroup 0.6714697406340058 2082\n",
      "unknown_articleID-unknown_customerID-known_voucherID-unknown_productGroup 0.8571428571428572 14\n",
      "unknown_articleID-unknown_customerID-known_voucherID-known_productGroup 0.6607851985559567 22160\n",
      "unknown_articleID-known_customerID-unknown_voucherID-known_productGroup 0.6644025933930225 3239\n",
      "unknown_articleID-known_customerID-known_voucherID-unknown_productGroup 0.6666666666666667 12\n",
      "unknown_articleID-known_customerID-known_voucherID-known_productGroup 0.6448727214325864 62265\n",
      "known_articleID-unknown_customerID-unknown_voucherID-known_productGroup 0.6719980902363333 4189\n",
      "known_articleID-unknown_customerID-known_voucherID-known_productGroup 0.6569881430305293 42844\n",
      "known_articleID-known_customerID-unknown_voucherID-known_productGroup 0.6366995073891626 6496\n",
      "known_articleID-known_customerID-known_voucherID-known_productGroup 0.6434649183986609 93197\n"
     ]
    }
   ],
   "source": [
    "res = []\n",
    "for k in ensemble.splits:\n",
    "    Xt, yt = ensemble.splits[k]['train'][0], ensemble.splits[k]['train'][1]\n",
    "    Xe, ye = ensemble.splits[k]['test'][0], ensemble.splits[k]['test'][1]\n",
    "    fts, clf = ensemble.splits[k]['features'], dmc.classifiers.SVM\n",
    "    clf = clf(Xt, yt)\n",
    "    prec = dmc.evaluation.precision(ye, clf(Xe))\n",
    "    res.append((k, prec, len(ye)))\n",
    "    print(k, prec, len(ye))"
   ]
  },
  {
   "cell_type": "code",
   "execution_count": null,
   "metadata": {
    "collapsed": true
   },
   "outputs": [],
   "source": []
  }
 ],
 "metadata": {
  "kernelspec": {
   "display_name": "Python 3",
   "language": "python",
   "name": "python3"
  },
  "language_info": {
   "codemirror_mode": {
    "name": "ipython",
    "version": 3
   },
   "file_extension": ".py",
   "mimetype": "text/x-python",
   "name": "python",
   "nbconvert_exporter": "python",
   "pygments_lexer": "ipython3",
   "version": "3.5.1"
  }
 },
 "nbformat": 4,
 "nbformat_minor": 0
}
